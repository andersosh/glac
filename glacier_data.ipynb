{
 "cells": [
  {
   "cell_type": "code",
   "execution_count": 1,
   "metadata": {},
   "outputs": [
    {
     "name": "stdout",
     "output_type": "stream",
     "text": [
      "2.5.0\n"
     ]
    }
   ],
   "source": [
    "import matplotlib.pyplot as plt\n",
    "import numpy as np\n",
    "import pandas as pd\n",
    "import seaborn as sns\n",
    "import tensorflow as tf\n",
    "from tensorflow import keras\n",
    "from tensorflow.keras import layers\n",
    "from tensorflow.keras.layers.experimental import preprocessing\n",
    "\n",
    "print(tf.__version__)\n",
    "\n",
    "# Make numpy printouts easier to read.\n",
    "np.set_printoptions(precision=3, suppress=True)\n",
    "\n",
    "raw_dataset = pd.read_csv(\"/data/fast0/datasets/glathida-3.1.0/data/T.csv\")\n",
    "\n",
    "# raw_dataset = pd.read_csv(\"~/notebooks/glac/data/TTT.csv\")\n",
    "dataset = raw_dataset.copy()\n",
    "\n",
    "#examine missing data\n",
    "# dataset.head()"
   ]
  },
  {
   "cell_type": "code",
   "execution_count": 2,
   "metadata": {},
   "outputs": [
    {
     "data": {
      "text/plain": [
       "LAT               0\n",
       "LON               0\n",
       "AREA              0\n",
       "MEAN_SLOPE        0\n",
       "MEAN_THICKNESS    0\n",
       "dtype: int64"
      ]
     },
     "execution_count": 2,
     "metadata": {},
     "output_type": "execute_result"
    }
   ],
   "source": [
    "#drop everything but lat, long, elevation, thickness\n",
    "\n",
    "dataset = dataset.drop(\"GlaThiDa_ID\", axis=1)\n",
    "dataset = dataset.drop(\"GLACIER_DB\", axis=1)\n",
    "dataset = dataset.drop(\"POLITICAL_UNIT\", axis=1)\n",
    "dataset = dataset.drop(\"GLACIER_ID\", axis=1)\n",
    "dataset = dataset.drop(\"GLACIER_NAME\", axis=1)\n",
    "dataset = dataset.drop(\"SURVEY_DATE\", axis=1)\n",
    "dataset = dataset.drop(\"MEAN_THICKNESS_UNCERTAINTY\", axis=1)\n",
    "dataset = dataset.drop(\"MAXIMUM_THICKNESS\", axis=1)\n",
    "dataset = dataset.drop(\"MAX_THICKNESS_UNCERTAINTY\", axis=1)\n",
    "dataset = dataset.drop(\"DATA_FLAG\", axis=1)\n",
    "dataset = dataset.drop(\"ELEVATION_DATE\", axis=1)\n",
    "dataset = dataset.drop(\"SPONSORING_AGENCY\", axis=1)\n",
    "dataset = dataset.drop(\"REMARKS\", axis=1)\n",
    "dataset = dataset.drop(\"SURVEY_METHOD_DETAILS\", axis=1)\n",
    "dataset = dataset.drop(\"SURVEY_METHOD\", axis=1)\n",
    "dataset = dataset.drop(\"NUMBER_OF_SURVEY_POINTS\", axis=1)\n",
    "dataset = dataset.drop(\"NUMBER_OF_SURVEY_PROFILES\", axis=1)\n",
    "dataset = dataset.drop(\"TOTAL_LENGTH_OF_SURVEY_PROFILES\", axis=1)\n",
    "dataset = dataset.drop(\"INTERPOLATION_METHOD\", axis=1)\n",
    "dataset = dataset.drop(\"INVESTIGATOR\", axis=1)\n",
    "dataset = dataset.drop(\"REFERENCES\", axis=1)\n",
    "\n",
    "#sum up rows with empty cells\n",
    "dataset.isna().sum()\n",
    "\n",
    "#drop the remaining null pieces from elevation\n",
    "dataset = dataset.dropna()\n",
    "dataset.isna().sum()"
   ]
  },
  {
   "cell_type": "code",
   "execution_count": 3,
   "metadata": {
    "scrolled": false
   },
   "outputs": [
    {
     "data": {
      "text/html": [
       "<div>\n",
       "<style scoped>\n",
       "    .dataframe tbody tr th:only-of-type {\n",
       "        vertical-align: middle;\n",
       "    }\n",
       "\n",
       "    .dataframe tbody tr th {\n",
       "        vertical-align: top;\n",
       "    }\n",
       "\n",
       "    .dataframe thead th {\n",
       "        text-align: right;\n",
       "    }\n",
       "</style>\n",
       "<table border=\"1\" class=\"dataframe\">\n",
       "  <thead>\n",
       "    <tr style=\"text-align: right;\">\n",
       "      <th></th>\n",
       "      <th>LAT</th>\n",
       "      <th>LON</th>\n",
       "      <th>AREA</th>\n",
       "      <th>MEAN_SLOPE</th>\n",
       "      <th>MEAN_THICKNESS</th>\n",
       "    </tr>\n",
       "  </thead>\n",
       "  <tbody>\n",
       "    <tr>\n",
       "      <th>32</th>\n",
       "      <td>48.750000</td>\n",
       "      <td>-121.830000</td>\n",
       "      <td>2.900</td>\n",
       "      <td>0.0</td>\n",
       "      <td>58.0</td>\n",
       "    </tr>\n",
       "    <tr>\n",
       "      <th>33</th>\n",
       "      <td>58.380000</td>\n",
       "      <td>-134.360000</td>\n",
       "      <td>11.700</td>\n",
       "      <td>0.0</td>\n",
       "      <td>66.0</td>\n",
       "    </tr>\n",
       "    <tr>\n",
       "      <th>34</th>\n",
       "      <td>50.061340</td>\n",
       "      <td>87.697410</td>\n",
       "      <td>5.150</td>\n",
       "      <td>0.0</td>\n",
       "      <td>56.0</td>\n",
       "    </tr>\n",
       "    <tr>\n",
       "      <th>35</th>\n",
       "      <td>50.049670</td>\n",
       "      <td>87.745520</td>\n",
       "      <td>2.840</td>\n",
       "      <td>0.0</td>\n",
       "      <td>86.0</td>\n",
       "    </tr>\n",
       "    <tr>\n",
       "      <th>36</th>\n",
       "      <td>50.080080</td>\n",
       "      <td>87.690250</td>\n",
       "      <td>5.950</td>\n",
       "      <td>0.0</td>\n",
       "      <td>90.0</td>\n",
       "    </tr>\n",
       "    <tr>\n",
       "      <th>...</th>\n",
       "      <td>...</td>\n",
       "      <td>...</td>\n",
       "      <td>...</td>\n",
       "      <td>...</td>\n",
       "      <td>...</td>\n",
       "    </tr>\n",
       "    <tr>\n",
       "      <th>620</th>\n",
       "      <td>78.245480</td>\n",
       "      <td>16.064380</td>\n",
       "      <td>2.100</td>\n",
       "      <td>13.0</td>\n",
       "      <td>32.0</td>\n",
       "    </tr>\n",
       "    <tr>\n",
       "      <th>628</th>\n",
       "      <td>43.043653</td>\n",
       "      <td>77.080587</td>\n",
       "      <td>2.610</td>\n",
       "      <td>20.0</td>\n",
       "      <td>47.0</td>\n",
       "    </tr>\n",
       "    <tr>\n",
       "      <th>632</th>\n",
       "      <td>77.971400</td>\n",
       "      <td>14.069100</td>\n",
       "      <td>6.737</td>\n",
       "      <td>6.0</td>\n",
       "      <td>65.0</td>\n",
       "    </tr>\n",
       "    <tr>\n",
       "      <th>749</th>\n",
       "      <td>77.027200</td>\n",
       "      <td>15.485400</td>\n",
       "      <td>0.370</td>\n",
       "      <td>19.0</td>\n",
       "      <td>27.0</td>\n",
       "    </tr>\n",
       "    <tr>\n",
       "      <th>837</th>\n",
       "      <td>78.871000</td>\n",
       "      <td>12.161400</td>\n",
       "      <td>4.600</td>\n",
       "      <td>14.0</td>\n",
       "      <td>76.0</td>\n",
       "    </tr>\n",
       "  </tbody>\n",
       "</table>\n",
       "<p>111 rows × 5 columns</p>\n",
       "</div>"
      ],
      "text/plain": [
       "           LAT         LON    AREA  MEAN_SLOPE  MEAN_THICKNESS\n",
       "32   48.750000 -121.830000   2.900         0.0            58.0\n",
       "33   58.380000 -134.360000  11.700         0.0            66.0\n",
       "34   50.061340   87.697410   5.150         0.0            56.0\n",
       "35   50.049670   87.745520   2.840         0.0            86.0\n",
       "36   50.080080   87.690250   5.950         0.0            90.0\n",
       "..         ...         ...     ...         ...             ...\n",
       "620  78.245480   16.064380   2.100        13.0            32.0\n",
       "628  43.043653   77.080587   2.610        20.0            47.0\n",
       "632  77.971400   14.069100   6.737         6.0            65.0\n",
       "749  77.027200   15.485400   0.370        19.0            27.0\n",
       "837  78.871000   12.161400   4.600        14.0            76.0\n",
       "\n",
       "[111 rows x 5 columns]"
      ]
     },
     "execution_count": 3,
     "metadata": {},
     "output_type": "execute_result"
    }
   ],
   "source": [
    "dataset"
   ]
  },
  {
   "cell_type": "markdown",
   "metadata": {},
   "source": [
    "# "
   ]
  },
  {
   "cell_type": "code",
   "execution_count": 4,
   "metadata": {},
   "outputs": [],
   "source": [
    "#split the dataset and reserve some to test what was trained.\n",
    "train_dataset = dataset.sample(frac=0.8, random_state=0)\n",
    "test_dataset = dataset.drop(train_dataset.index)"
   ]
  },
  {
   "cell_type": "code",
   "execution_count": 5,
   "metadata": {},
   "outputs": [
    {
     "data": {
      "text/plain": [
       "<seaborn.axisgrid.PairGrid at 0x7f3751c804f0>"
      ]
     },
     "execution_count": 5,
     "metadata": {},
     "output_type": "execute_result"
    },
    {
     "data": {
      "image/png": "[encoded data removed]",
      "text/plain": [
       "<Figure size 720x720 with 20 Axes>"
      ]
     },
     "metadata": {
      "needs_background": "light"
     },
     "output_type": "display_data"
    }
   ],
   "source": [
    "sns.pairplot(train_dataset[[\"LAT\", \"AREA\", \"MEAN_SLOPE\", \"MEAN_THICKNESS\"]], diag_kind='kde')"
   ]
  },
  {
   "cell_type": "code",
   "execution_count": 6,
   "metadata": {},
   "outputs": [
    {
     "data": {
      "text/html": [
       "<div>\n",
       "<style scoped>\n",
       "    .dataframe tbody tr th:only-of-type {\n",
       "        vertical-align: middle;\n",
       "    }\n",
       "\n",
       "    .dataframe tbody tr th {\n",
       "        vertical-align: top;\n",
       "    }\n",
       "\n",
       "    .dataframe thead th {\n",
       "        text-align: right;\n",
       "    }\n",
       "</style>\n",
       "<table border=\"1\" class=\"dataframe\">\n",
       "  <thead>\n",
       "    <tr style=\"text-align: right;\">\n",
       "      <th></th>\n",
       "      <th>count</th>\n",
       "      <th>mean</th>\n",
       "      <th>std</th>\n",
       "      <th>min</th>\n",
       "      <th>25%</th>\n",
       "      <th>50%</th>\n",
       "      <th>75%</th>\n",
       "      <th>max</th>\n",
       "    </tr>\n",
       "  </thead>\n",
       "  <tbody>\n",
       "    <tr>\n",
       "      <th>LAT</th>\n",
       "      <td>89.0</td>\n",
       "      <td>47.465341</td>\n",
       "      <td>14.458029</td>\n",
       "      <td>-16.3023</td>\n",
       "      <td>44.584600</td>\n",
       "      <td>45.080000</td>\n",
       "      <td>48.75000</td>\n",
       "      <td>78.87100</td>\n",
       "    </tr>\n",
       "    <tr>\n",
       "      <th>LON</th>\n",
       "      <td>89.0</td>\n",
       "      <td>41.704321</td>\n",
       "      <td>55.546192</td>\n",
       "      <td>-134.3600</td>\n",
       "      <td>8.602228</td>\n",
       "      <td>78.176022</td>\n",
       "      <td>79.82588</td>\n",
       "      <td>140.86536</td>\n",
       "    </tr>\n",
       "    <tr>\n",
       "      <th>AREA</th>\n",
       "      <td>89.0</td>\n",
       "      <td>4.060882</td>\n",
       "      <td>8.853776</td>\n",
       "      <td>0.0264</td>\n",
       "      <td>1.000000</td>\n",
       "      <td>2.100000</td>\n",
       "      <td>3.22750</td>\n",
       "      <td>71.30000</td>\n",
       "    </tr>\n",
       "    <tr>\n",
       "      <th>MEAN_SLOPE</th>\n",
       "      <td>89.0</td>\n",
       "      <td>8.797753</td>\n",
       "      <td>10.230502</td>\n",
       "      <td>0.0000</td>\n",
       "      <td>0.000000</td>\n",
       "      <td>6.000000</td>\n",
       "      <td>16.00000</td>\n",
       "      <td>48.00000</td>\n",
       "    </tr>\n",
       "    <tr>\n",
       "      <th>MEAN_THICKNESS</th>\n",
       "      <td>89.0</td>\n",
       "      <td>50.460674</td>\n",
       "      <td>27.011806</td>\n",
       "      <td>4.0000</td>\n",
       "      <td>30.000000</td>\n",
       "      <td>49.000000</td>\n",
       "      <td>65.00000</td>\n",
       "      <td>148.00000</td>\n",
       "    </tr>\n",
       "  </tbody>\n",
       "</table>\n",
       "</div>"
      ],
      "text/plain": [
       "                count       mean        std       min        25%        50%  \\\n",
       "LAT              89.0  47.465341  14.458029  -16.3023  44.584600  45.080000   \n",
       "LON              89.0  41.704321  55.546192 -134.3600   8.602228  78.176022   \n",
       "AREA             89.0   4.060882   8.853776    0.0264   1.000000   2.100000   \n",
       "MEAN_SLOPE       89.0   8.797753  10.230502    0.0000   0.000000   6.000000   \n",
       "MEAN_THICKNESS   89.0  50.460674  27.011806    4.0000  30.000000  49.000000   \n",
       "\n",
       "                     75%        max  \n",
       "LAT             48.75000   78.87100  \n",
       "LON             79.82588  140.86536  \n",
       "AREA             3.22750   71.30000  \n",
       "MEAN_SLOPE      16.00000   48.00000  \n",
       "MEAN_THICKNESS  65.00000  148.00000  "
      ]
     },
     "execution_count": 6,
     "metadata": {},
     "output_type": "execute_result"
    }
   ],
   "source": [
    "train_dataset.describe().transpose()"
   ]
  },
  {
   "cell_type": "code",
   "execution_count": 7,
   "metadata": {},
   "outputs": [
    {
     "data": {
      "text/html": [
       "<div>\n",
       "<style scoped>\n",
       "    .dataframe tbody tr th:only-of-type {\n",
       "        vertical-align: middle;\n",
       "    }\n",
       "\n",
       "    .dataframe tbody tr th {\n",
       "        vertical-align: top;\n",
       "    }\n",
       "\n",
       "    .dataframe thead th {\n",
       "        text-align: right;\n",
       "    }\n",
       "</style>\n",
       "<table border=\"1\" class=\"dataframe\">\n",
       "  <thead>\n",
       "    <tr style=\"text-align: right;\">\n",
       "      <th></th>\n",
       "      <th>mean</th>\n",
       "      <th>std</th>\n",
       "    </tr>\n",
       "  </thead>\n",
       "  <tbody>\n",
       "    <tr>\n",
       "      <th>LAT</th>\n",
       "      <td>47.465341</td>\n",
       "      <td>14.458029</td>\n",
       "    </tr>\n",
       "    <tr>\n",
       "      <th>LON</th>\n",
       "      <td>41.704321</td>\n",
       "      <td>55.546192</td>\n",
       "    </tr>\n",
       "    <tr>\n",
       "      <th>AREA</th>\n",
       "      <td>4.060882</td>\n",
       "      <td>8.853776</td>\n",
       "    </tr>\n",
       "    <tr>\n",
       "      <th>MEAN_SLOPE</th>\n",
       "      <td>8.797753</td>\n",
       "      <td>10.230502</td>\n",
       "    </tr>\n",
       "  </tbody>\n",
       "</table>\n",
       "</div>"
      ],
      "text/plain": [
       "                 mean        std\n",
       "LAT         47.465341  14.458029\n",
       "LON         41.704321  55.546192\n",
       "AREA         4.060882   8.853776\n",
       "MEAN_SLOPE   8.797753  10.230502"
      ]
     },
     "execution_count": 7,
     "metadata": {},
     "output_type": "execute_result"
    }
   ],
   "source": [
    "#separate out features - what will be trained to predict desired attribute\n",
    "train_features = train_dataset.copy()\n",
    "test_features = test_dataset.copy()\n",
    "\n",
    "#define label - attribute training to be picked\n",
    "train_labels = train_features.pop(\"MEAN_THICKNESS\")\n",
    "test_labels = test_features.pop(\"MEAN_THICKNESS\")\n",
    "\n",
    "train_features.describe().transpose()[['mean', 'std']]"
   ]
  },
  {
   "cell_type": "code",
   "execution_count": 22,
   "metadata": {},
   "outputs": [],
   "source": [
    "#begin linear regression with elevation\n",
    "\n",
    "#put training features into numpy array and apply normalization layer\n",
    "# array_int = np.array(train_features)\n",
    "area = np.array(train_features[\"AREA\"])\n",
    "area_normalizer = preprocessing.Normalization(input_shape=[1,], axis=None)\n",
    "area_normalizer.adapt(area)"
   ]
  },
  {
   "cell_type": "code",
   "execution_count": 36,
   "metadata": {},
   "outputs": [],
   "source": [
    "#build elevation model with Sequential\n",
    "area_model = tf.keras.Sequential([\n",
    "    layers.Dense(1)\n",
    "])\n",
    "#     area_normalizer,\n",
    "\n",
    "# area_model.summary()"
   ]
  },
  {
   "cell_type": "code",
   "execution_count": 44,
   "metadata": {},
   "outputs": [],
   "source": [
    "#more pfm\n",
    "area_model.compile(\n",
    "    optimizer=tf.optimizers.Adam(learning_rate=0.1),\n",
    "    loss=\"mean_absolute_error\")"
   ]
  },
  {
   "cell_type": "code",
   "execution_count": 46,
   "metadata": {},
   "outputs": [
    {
     "name": "stdout",
     "output_type": "stream",
     "text": [
      "Epoch 1/200\n",
      "3/3 [==============================] - 0s 15ms/step - loss: 31.9414 - val_loss: 39.0325\n",
      "Epoch 2/200\n",
      "3/3 [==============================] - 0s 6ms/step - loss: 31.6101 - val_loss: 38.3661\n",
      "Epoch 3/200\n",
      "3/3 [==============================] - 0s 6ms/step - loss: 31.2494 - val_loss: 37.6861\n",
      "Epoch 4/200\n",
      "3/3 [==============================] - 0s 6ms/step - loss: 30.8472 - val_loss: 37.1065\n",
      "Epoch 5/200\n",
      "3/3 [==============================] - 0s 5ms/step - loss: 30.5688 - val_loss: 36.6610\n",
      "Epoch 6/200\n",
      "3/3 [==============================] - 0s 5ms/step - loss: 30.3259 - val_loss: 36.2012\n",
      "Epoch 7/200\n",
      "3/3 [==============================] - 0s 5ms/step - loss: 30.0556 - val_loss: 35.7839\n",
      "Epoch 8/200\n",
      "3/3 [==============================] - 0s 5ms/step - loss: 29.7919 - val_loss: 35.4443\n",
      "Epoch 9/200\n",
      "3/3 [==============================] - 0s 5ms/step - loss: 29.5537 - val_loss: 35.0566\n",
      "Epoch 10/200\n",
      "3/3 [==============================] - 0s 5ms/step - loss: 29.3619 - val_loss: 34.6476\n",
      "Epoch 11/200\n",
      "3/3 [==============================] - 0s 5ms/step - loss: 29.1371 - val_loss: 34.3367\n",
      "Epoch 12/200\n",
      "3/3 [==============================] - 0s 6ms/step - loss: 28.9487 - val_loss: 34.0400\n",
      "Epoch 13/200\n",
      "3/3 [==============================] - 0s 6ms/step - loss: 28.7438 - val_loss: 33.8156\n",
      "Epoch 14/200\n",
      "3/3 [==============================] - 0s 6ms/step - loss: 28.5582 - val_loss: 33.5803\n",
      "Epoch 15/200\n",
      "3/3 [==============================] - 0s 5ms/step - loss: 28.3586 - val_loss: 33.2870\n",
      "Epoch 16/200\n",
      "3/3 [==============================] - 0s 5ms/step - loss: 28.1807 - val_loss: 32.9936\n",
      "Epoch 17/200\n",
      "3/3 [==============================] - 0s 6ms/step - loss: 27.9784 - val_loss: 32.7538\n",
      "Epoch 18/200\n",
      "3/3 [==============================] - 0s 6ms/step - loss: 27.7956 - val_loss: 32.5047\n",
      "Epoch 19/200\n",
      "3/3 [==============================] - 0s 5ms/step - loss: 27.5766 - val_loss: 32.3924\n",
      "Epoch 20/200\n",
      "3/3 [==============================] - 0s 5ms/step - loss: 27.3956 - val_loss: 32.2901\n",
      "Epoch 21/200\n",
      "3/3 [==============================] - 0s 5ms/step - loss: 27.2160 - val_loss: 32.1413\n",
      "Epoch 22/200\n",
      "3/3 [==============================] - 0s 5ms/step - loss: 27.0444 - val_loss: 31.9611\n",
      "Epoch 23/200\n",
      "3/3 [==============================] - 0s 5ms/step - loss: 26.8670 - val_loss: 31.7580\n",
      "Epoch 24/200\n",
      "3/3 [==============================] - 0s 5ms/step - loss: 26.6772 - val_loss: 31.6600\n",
      "Epoch 25/200\n",
      "3/3 [==============================] - 0s 6ms/step - loss: 26.4913 - val_loss: 31.4922\n",
      "Epoch 26/200\n",
      "3/3 [==============================] - 0s 5ms/step - loss: 26.2961 - val_loss: 31.2867\n",
      "Epoch 27/200\n",
      "3/3 [==============================] - 0s 6ms/step - loss: 26.1207 - val_loss: 31.0466\n",
      "Epoch 28/200\n",
      "3/3 [==============================] - 0s 5ms/step - loss: 25.9375 - val_loss: 30.7921\n",
      "Epoch 29/200\n",
      "3/3 [==============================] - 0s 6ms/step - loss: 25.7742 - val_loss: 30.5534\n",
      "Epoch 30/200\n",
      "3/3 [==============================] - 0s 5ms/step - loss: 25.5878 - val_loss: 30.4365\n",
      "Epoch 31/200\n",
      "3/3 [==============================] - 0s 5ms/step - loss: 25.4035 - val_loss: 30.2811\n",
      "Epoch 32/200\n",
      "3/3 [==============================] - 0s 6ms/step - loss: 25.2314 - val_loss: 30.0354\n",
      "Epoch 33/200\n",
      "3/3 [==============================] - 0s 6ms/step - loss: 25.0725 - val_loss: 29.8015\n",
      "Epoch 34/200\n",
      "3/3 [==============================] - 0s 5ms/step - loss: 24.8730 - val_loss: 29.7029\n",
      "Epoch 35/200\n",
      "3/3 [==============================] - 0s 5ms/step - loss: 24.7095 - val_loss: 29.5714\n",
      "Epoch 36/200\n",
      "3/3 [==============================] - 0s 5ms/step - loss: 24.5419 - val_loss: 29.5180\n",
      "Epoch 37/200\n",
      "3/3 [==============================] - 0s 5ms/step - loss: 24.3909 - val_loss: 29.3949\n",
      "Epoch 38/200\n",
      "3/3 [==============================] - 0s 5ms/step - loss: 24.2449 - val_loss: 29.2161\n",
      "Epoch 39/200\n",
      "3/3 [==============================] - 0s 5ms/step - loss: 24.0919 - val_loss: 29.1132\n",
      "Epoch 40/200\n",
      "3/3 [==============================] - 0s 5ms/step - loss: 23.9784 - val_loss: 28.9853\n",
      "Epoch 41/200\n",
      "3/3 [==============================] - 0s 5ms/step - loss: 23.8422 - val_loss: 28.8028\n",
      "Epoch 42/200\n",
      "3/3 [==============================] - 0s 6ms/step - loss: 23.7091 - val_loss: 28.7198\n",
      "Epoch 43/200\n",
      "3/3 [==============================] - 0s 5ms/step - loss: 23.5844 - val_loss: 28.5553\n",
      "Epoch 44/200\n",
      "3/3 [==============================] - 0s 5ms/step - loss: 23.4583 - val_loss: 28.3647\n",
      "Epoch 45/200\n",
      "3/3 [==============================] - 0s 5ms/step - loss: 23.3485 - val_loss: 28.1345\n",
      "Epoch 46/200\n",
      "3/3 [==============================] - 0s 5ms/step - loss: 23.2264 - val_loss: 27.9371\n",
      "Epoch 47/200\n",
      "3/3 [==============================] - 0s 6ms/step - loss: 23.1113 - val_loss: 27.7712\n",
      "Epoch 48/200\n",
      "3/3 [==============================] - 0s 5ms/step - loss: 23.0025 - val_loss: 27.6133\n",
      "Epoch 49/200\n",
      "3/3 [==============================] - 0s 5ms/step - loss: 22.9023 - val_loss: 27.4640\n",
      "Epoch 50/200\n",
      "3/3 [==============================] - 0s 5ms/step - loss: 22.7959 - val_loss: 27.3501\n",
      "Epoch 51/200\n",
      "3/3 [==============================] - 0s 5ms/step - loss: 22.6933 - val_loss: 27.1965\n",
      "Epoch 52/200\n",
      "3/3 [==============================] - 0s 5ms/step - loss: 22.5861 - val_loss: 26.9822\n",
      "Epoch 53/200\n",
      "3/3 [==============================] - 0s 6ms/step - loss: 22.5151 - val_loss: 26.7778\n",
      "Epoch 54/200\n",
      "3/3 [==============================] - 0s 5ms/step - loss: 22.4143 - val_loss: 26.6352\n",
      "Epoch 55/200\n",
      "3/3 [==============================] - 0s 5ms/step - loss: 22.3091 - val_loss: 26.5271\n",
      "Epoch 56/200\n",
      "3/3 [==============================] - 0s 5ms/step - loss: 22.2093 - val_loss: 26.5399\n",
      "Epoch 57/200\n",
      "3/3 [==============================] - 0s 5ms/step - loss: 22.0541 - val_loss: 26.4922\n",
      "Epoch 58/200\n",
      "3/3 [==============================] - 0s 5ms/step - loss: 21.9469 - val_loss: 26.4320\n",
      "Epoch 59/200\n",
      "3/3 [==============================] - 0s 5ms/step - loss: 21.8206 - val_loss: 26.2533\n",
      "Epoch 60/200\n",
      "3/3 [==============================] - 0s 5ms/step - loss: 21.7318 - val_loss: 26.1197\n",
      "Epoch 61/200\n",
      "3/3 [==============================] - 0s 5ms/step - loss: 21.6003 - val_loss: 26.1859\n",
      "Epoch 62/200\n",
      "3/3 [==============================] - 0s 6ms/step - loss: 21.4803 - val_loss: 26.1822\n",
      "Epoch 63/200\n",
      "3/3 [==============================] - 0s 5ms/step - loss: 21.3364 - val_loss: 26.1626\n",
      "Epoch 64/200\n",
      "3/3 [==============================] - 0s 5ms/step - loss: 21.2625 - val_loss: 26.2189\n",
      "Epoch 65/200\n",
      "3/3 [==============================] - 0s 5ms/step - loss: 21.1236 - val_loss: 26.0969\n",
      "Epoch 66/200\n",
      "3/3 [==============================] - 0s 5ms/step - loss: 21.0306 - val_loss: 25.9233\n",
      "Epoch 67/200\n",
      "3/3 [==============================] - 0s 5ms/step - loss: 20.9189 - val_loss: 25.6893\n",
      "Epoch 68/200\n",
      "3/3 [==============================] - 0s 6ms/step - loss: 20.8497 - val_loss: 25.4296\n",
      "Epoch 69/200\n",
      "3/3 [==============================] - 0s 5ms/step - loss: 20.7644 - val_loss: 25.2860\n",
      "Epoch 70/200\n",
      "3/3 [==============================] - 0s 6ms/step - loss: 20.6868 - val_loss: 25.3155\n",
      "Epoch 71/200\n",
      "3/3 [==============================] - 0s 5ms/step - loss: 20.5751 - val_loss: 25.2589\n",
      "Epoch 72/200\n",
      "3/3 [==============================] - 0s 5ms/step - loss: 20.5030 - val_loss: 25.1874\n",
      "Epoch 73/200\n",
      "3/3 [==============================] - 0s 5ms/step - loss: 20.4452 - val_loss: 25.1312\n",
      "Epoch 74/200\n",
      "3/3 [==============================] - 0s 5ms/step - loss: 20.3853 - val_loss: 24.9880\n",
      "Epoch 75/200\n",
      "3/3 [==============================] - 0s 6ms/step - loss: 20.2991 - val_loss: 24.7906\n",
      "Epoch 76/200\n",
      "3/3 [==============================] - 0s 6ms/step - loss: 20.2292 - val_loss: 24.5456\n",
      "Epoch 77/200\n",
      "3/3 [==============================] - 0s 5ms/step - loss: 20.1517 - val_loss: 24.3571\n",
      "Epoch 78/200\n",
      "3/3 [==============================] - 0s 5ms/step - loss: 20.1178 - val_loss: 24.2196\n",
      "Epoch 79/200\n",
      "3/3 [==============================] - 0s 6ms/step - loss: 20.0550 - val_loss: 24.1314\n",
      "Epoch 80/200\n",
      "3/3 [==============================] - 0s 5ms/step - loss: 19.9825 - val_loss: 24.1197\n",
      "Epoch 81/200\n",
      "3/3 [==============================] - 0s 5ms/step - loss: 19.8888 - val_loss: 24.1880\n",
      "Epoch 82/200\n",
      "3/3 [==============================] - 0s 5ms/step - loss: 19.8716 - val_loss: 24.1519\n",
      "Epoch 83/200\n"
     ]
    },
    {
     "name": "stdout",
     "output_type": "stream",
     "text": [
      "3/3 [==============================] - 0s 5ms/step - loss: 19.8081 - val_loss: 24.0361\n",
      "Epoch 84/200\n",
      "3/3 [==============================] - 0s 6ms/step - loss: 19.7450 - val_loss: 23.8616\n",
      "Epoch 85/200\n",
      "3/3 [==============================] - 0s 6ms/step - loss: 19.6579 - val_loss: 23.5978\n",
      "Epoch 86/200\n",
      "3/3 [==============================] - 0s 5ms/step - loss: 19.5865 - val_loss: 23.3366\n",
      "Epoch 87/200\n",
      "3/3 [==============================] - 0s 6ms/step - loss: 19.5642 - val_loss: 23.1770\n",
      "Epoch 88/200\n",
      "3/3 [==============================] - 0s 5ms/step - loss: 19.5304 - val_loss: 23.0525\n",
      "Epoch 89/200\n",
      "3/3 [==============================] - 0s 5ms/step - loss: 19.5000 - val_loss: 22.9573\n",
      "Epoch 90/200\n",
      "3/3 [==============================] - 0s 5ms/step - loss: 19.4675 - val_loss: 22.8270\n",
      "Epoch 91/200\n",
      "3/3 [==============================] - 0s 5ms/step - loss: 19.4267 - val_loss: 22.7167\n",
      "Epoch 92/200\n",
      "3/3 [==============================] - 0s 6ms/step - loss: 19.3943 - val_loss: 22.6184\n",
      "Epoch 93/200\n",
      "3/3 [==============================] - 0s 5ms/step - loss: 19.3587 - val_loss: 22.5212\n",
      "Epoch 94/200\n",
      "3/3 [==============================] - 0s 5ms/step - loss: 19.3176 - val_loss: 22.3994\n",
      "Epoch 95/200\n",
      "3/3 [==============================] - 0s 6ms/step - loss: 19.2938 - val_loss: 22.3364\n",
      "Epoch 96/200\n",
      "3/3 [==============================] - 0s 5ms/step - loss: 19.2256 - val_loss: 22.4370\n",
      "Epoch 97/200\n",
      "3/3 [==============================] - 0s 5ms/step - loss: 19.1641 - val_loss: 22.5200\n",
      "Epoch 98/200\n",
      "3/3 [==============================] - 0s 6ms/step - loss: 19.0558 - val_loss: 22.5340\n",
      "Epoch 99/200\n",
      "3/3 [==============================] - 0s 5ms/step - loss: 19.0147 - val_loss: 22.4959\n",
      "Epoch 100/200\n",
      "3/3 [==============================] - 0s 5ms/step - loss: 18.9697 - val_loss: 22.4284\n",
      "Epoch 101/200\n",
      "3/3 [==============================] - 0s 5ms/step - loss: 18.9353 - val_loss: 22.3346\n",
      "Epoch 102/200\n",
      "3/3 [==============================] - 0s 5ms/step - loss: 18.8843 - val_loss: 22.1992\n",
      "Epoch 103/200\n",
      "3/3 [==============================] - 0s 5ms/step - loss: 18.8715 - val_loss: 22.0235\n",
      "Epoch 104/200\n",
      "3/3 [==============================] - 0s 5ms/step - loss: 18.8295 - val_loss: 21.9366\n",
      "Epoch 105/200\n",
      "3/3 [==============================] - 0s 5ms/step - loss: 18.8027 - val_loss: 21.8421\n",
      "Epoch 106/200\n",
      "3/3 [==============================] - 0s 5ms/step - loss: 18.7759 - val_loss: 21.7612\n",
      "Epoch 107/200\n",
      "3/3 [==============================] - 0s 5ms/step - loss: 18.7580 - val_loss: 21.6911\n",
      "Epoch 108/200\n",
      "3/3 [==============================] - 0s 5ms/step - loss: 18.7223 - val_loss: 21.6812\n",
      "Epoch 109/200\n",
      "3/3 [==============================] - 0s 5ms/step - loss: 18.7002 - val_loss: 21.7679\n",
      "Epoch 110/200\n",
      "3/3 [==============================] - 0s 5ms/step - loss: 18.6412 - val_loss: 21.7937\n",
      "Epoch 111/200\n",
      "3/3 [==============================] - 0s 5ms/step - loss: 18.5942 - val_loss: 21.7726\n",
      "Epoch 112/200\n",
      "3/3 [==============================] - 0s 5ms/step - loss: 18.5668 - val_loss: 21.7085\n",
      "Epoch 113/200\n",
      "3/3 [==============================] - 0s 5ms/step - loss: 18.5398 - val_loss: 21.6138\n",
      "Epoch 114/200\n",
      "3/3 [==============================] - 0s 5ms/step - loss: 18.5219 - val_loss: 21.5555\n",
      "Epoch 115/200\n",
      "3/3 [==============================] - 0s 5ms/step - loss: 18.4934 - val_loss: 21.4687\n",
      "Epoch 116/200\n",
      "3/3 [==============================] - 0s 5ms/step - loss: 18.4697 - val_loss: 21.4764\n",
      "Epoch 117/200\n",
      "3/3 [==============================] - 0s 5ms/step - loss: 18.4300 - val_loss: 21.4169\n",
      "Epoch 118/200\n",
      "3/3 [==============================] - 0s 6ms/step - loss: 18.4029 - val_loss: 21.3350\n",
      "Epoch 119/200\n",
      "3/3 [==============================] - 0s 6ms/step - loss: 18.3903 - val_loss: 21.2446\n",
      "Epoch 120/200\n",
      "3/3 [==============================] - 0s 6ms/step - loss: 18.3413 - val_loss: 21.2777\n",
      "Epoch 121/200\n",
      "3/3 [==============================] - 0s 5ms/step - loss: 18.3103 - val_loss: 21.2581\n",
      "Epoch 122/200\n",
      "3/3 [==============================] - 0s 5ms/step - loss: 18.2856 - val_loss: 21.2245\n",
      "Epoch 123/200\n",
      "3/3 [==============================] - 0s 5ms/step - loss: 18.2687 - val_loss: 21.2396\n",
      "Epoch 124/200\n",
      "3/3 [==============================] - 0s 5ms/step - loss: 18.2283 - val_loss: 21.1937\n",
      "Epoch 125/200\n",
      "3/3 [==============================] - 0s 5ms/step - loss: 18.2109 - val_loss: 21.1103\n",
      "Epoch 126/200\n",
      "3/3 [==============================] - 0s 5ms/step - loss: 18.1827 - val_loss: 21.0316\n",
      "Epoch 127/200\n",
      "3/3 [==============================] - 0s 5ms/step - loss: 18.1631 - val_loss: 20.9112\n",
      "Epoch 128/200\n",
      "3/3 [==============================] - 0s 5ms/step - loss: 18.1383 - val_loss: 20.7384\n",
      "Epoch 129/200\n",
      "3/3 [==============================] - 0s 5ms/step - loss: 18.1508 - val_loss: 20.5965\n",
      "Epoch 130/200\n",
      "3/3 [==============================] - 0s 5ms/step - loss: 18.1542 - val_loss: 20.5235\n",
      "Epoch 131/200\n",
      "3/3 [==============================] - 0s 5ms/step - loss: 18.1505 - val_loss: 20.4927\n",
      "Epoch 132/200\n",
      "3/3 [==============================] - 0s 5ms/step - loss: 18.1215 - val_loss: 20.5191\n",
      "Epoch 133/200\n",
      "3/3 [==============================] - 0s 5ms/step - loss: 18.0905 - val_loss: 20.6064\n",
      "Epoch 134/200\n",
      "3/3 [==============================] - 0s 5ms/step - loss: 18.0231 - val_loss: 20.6832\n",
      "Epoch 135/200\n",
      "3/3 [==============================] - 0s 5ms/step - loss: 17.9876 - val_loss: 20.7187\n",
      "Epoch 136/200\n",
      "3/3 [==============================] - 0s 5ms/step - loss: 17.9643 - val_loss: 20.7315\n",
      "Epoch 137/200\n",
      "3/3 [==============================] - 0s 5ms/step - loss: 17.9396 - val_loss: 20.7815\n",
      "Epoch 138/200\n",
      "3/3 [==============================] - 0s 5ms/step - loss: 17.9142 - val_loss: 20.9122\n",
      "Epoch 139/200\n",
      "3/3 [==============================] - 0s 5ms/step - loss: 17.9108 - val_loss: 21.0020\n",
      "Epoch 140/200\n",
      "3/3 [==============================] - 0s 6ms/step - loss: 17.8616 - val_loss: 21.0086\n",
      "Epoch 141/200\n",
      "3/3 [==============================] - 0s 5ms/step - loss: 17.8341 - val_loss: 20.9689\n",
      "Epoch 142/200\n",
      "3/3 [==============================] - 0s 5ms/step - loss: 17.8164 - val_loss: 20.9244\n",
      "Epoch 143/200\n",
      "3/3 [==============================] - 0s 5ms/step - loss: 17.8111 - val_loss: 20.8083\n",
      "Epoch 144/200\n",
      "3/3 [==============================] - 0s 5ms/step - loss: 17.7842 - val_loss: 20.7310\n",
      "Epoch 145/200\n",
      "3/3 [==============================] - 0s 5ms/step - loss: 17.7665 - val_loss: 20.6428\n",
      "Epoch 146/200\n",
      "3/3 [==============================] - 0s 5ms/step - loss: 17.7608 - val_loss: 20.5919\n",
      "Epoch 147/200\n",
      "3/3 [==============================] - 0s 5ms/step - loss: 17.7401 - val_loss: 20.5502\n",
      "Epoch 148/200\n",
      "3/3 [==============================] - 0s 6ms/step - loss: 17.7131 - val_loss: 20.5760\n",
      "Epoch 149/200\n",
      "3/3 [==============================] - 0s 5ms/step - loss: 17.6895 - val_loss: 20.5884\n",
      "Epoch 150/200\n",
      "3/3 [==============================] - 0s 5ms/step - loss: 17.6701 - val_loss: 20.5782\n",
      "Epoch 151/200\n",
      "3/3 [==============================] - 0s 5ms/step - loss: 17.6481 - val_loss: 20.6286\n",
      "Epoch 152/200\n",
      "3/3 [==============================] - 0s 6ms/step - loss: 17.5875 - val_loss: 20.8477\n",
      "Epoch 153/200\n",
      "3/3 [==============================] - 0s 5ms/step - loss: 17.6432 - val_loss: 21.0912\n",
      "Epoch 154/200\n",
      "3/3 [==============================] - 0s 5ms/step - loss: 17.5880 - val_loss: 21.1628\n",
      "Epoch 155/200\n",
      "3/3 [==============================] - 0s 5ms/step - loss: 17.5524 - val_loss: 21.1911\n",
      "Epoch 156/200\n",
      "3/3 [==============================] - 0s 6ms/step - loss: 17.5364 - val_loss: 21.2150\n",
      "Epoch 157/200\n",
      "3/3 [==============================] - 0s 5ms/step - loss: 17.5345 - val_loss: 21.1785\n",
      "Epoch 158/200\n",
      "3/3 [==============================] - 0s 5ms/step - loss: 17.5224 - val_loss: 21.0667\n",
      "Epoch 159/200\n",
      "3/3 [==============================] - 0s 6ms/step - loss: 17.4737 - val_loss: 21.0308\n",
      "Epoch 160/200\n",
      "3/3 [==============================] - 0s 6ms/step - loss: 17.4426 - val_loss: 20.9455\n",
      "Epoch 161/200\n",
      "3/3 [==============================] - 0s 5ms/step - loss: 17.4229 - val_loss: 20.8103\n",
      "Epoch 162/200\n",
      "3/3 [==============================] - 0s 5ms/step - loss: 17.4104 - val_loss: 20.7132\n",
      "Epoch 163/200\n",
      "3/3 [==============================] - 0s 5ms/step - loss: 17.3556 - val_loss: 20.7273\n",
      "Epoch 164/200\n"
     ]
    },
    {
     "name": "stdout",
     "output_type": "stream",
     "text": [
      "3/3 [==============================] - 0s 6ms/step - loss: 17.3317 - val_loss: 20.6935\n",
      "Epoch 165/200\n",
      "3/3 [==============================] - 0s 5ms/step - loss: 17.3098 - val_loss: 20.6551\n",
      "Epoch 166/200\n",
      "3/3 [==============================] - 0s 5ms/step - loss: 17.2822 - val_loss: 20.7023\n",
      "Epoch 167/200\n",
      "3/3 [==============================] - 0s 5ms/step - loss: 17.2871 - val_loss: 20.7481\n",
      "Epoch 168/200\n",
      "3/3 [==============================] - 0s 6ms/step - loss: 17.2403 - val_loss: 20.7343\n",
      "Epoch 169/200\n",
      "3/3 [==============================] - 0s 5ms/step - loss: 17.2164 - val_loss: 20.6766\n",
      "Epoch 170/200\n",
      "3/3 [==============================] - 0s 6ms/step - loss: 17.1892 - val_loss: 20.5983\n",
      "Epoch 171/200\n",
      "3/3 [==============================] - 0s 5ms/step - loss: 17.1692 - val_loss: 20.5314\n",
      "Epoch 172/200\n",
      "3/3 [==============================] - 0s 5ms/step - loss: 17.1452 - val_loss: 20.4523\n",
      "Epoch 173/200\n",
      "3/3 [==============================] - 0s 6ms/step - loss: 17.1309 - val_loss: 20.4092\n",
      "Epoch 174/200\n",
      "3/3 [==============================] - 0s 6ms/step - loss: 17.1137 - val_loss: 20.4205\n",
      "Epoch 175/200\n",
      "3/3 [==============================] - 0s 5ms/step - loss: 17.1069 - val_loss: 20.4313\n",
      "Epoch 176/200\n",
      "3/3 [==============================] - 0s 6ms/step - loss: 17.0932 - val_loss: 20.5525\n",
      "Epoch 177/200\n",
      "3/3 [==============================] - 0s 5ms/step - loss: 17.0917 - val_loss: 20.6288\n",
      "Epoch 178/200\n",
      "3/3 [==============================] - 0s 5ms/step - loss: 17.0636 - val_loss: 20.5814\n",
      "Epoch 179/200\n",
      "3/3 [==============================] - 0s 6ms/step - loss: 17.0474 - val_loss: 20.5162\n",
      "Epoch 180/200\n",
      "3/3 [==============================] - 0s 5ms/step - loss: 17.0351 - val_loss: 20.3965\n",
      "Epoch 181/200\n",
      "3/3 [==============================] - 0s 6ms/step - loss: 17.0366 - val_loss: 20.2596\n",
      "Epoch 182/200\n",
      "3/3 [==============================] - 0s 6ms/step - loss: 17.0324 - val_loss: 20.1156\n",
      "Epoch 183/200\n",
      "3/3 [==============================] - 0s 6ms/step - loss: 16.9900 - val_loss: 20.0060\n",
      "Epoch 184/200\n",
      "3/3 [==============================] - 0s 5ms/step - loss: 17.0228 - val_loss: 19.8715\n",
      "Epoch 185/200\n",
      "3/3 [==============================] - 0s 5ms/step - loss: 16.9961 - val_loss: 19.8068\n",
      "Epoch 186/200\n",
      "3/3 [==============================] - 0s 5ms/step - loss: 16.9966 - val_loss: 19.7543\n",
      "Epoch 187/200\n",
      "3/3 [==============================] - 0s 5ms/step - loss: 16.9818 - val_loss: 19.7818\n",
      "Epoch 188/200\n",
      "3/3 [==============================] - 0s 5ms/step - loss: 16.9569 - val_loss: 19.8369\n",
      "Epoch 189/200\n",
      "3/3 [==============================] - 0s 5ms/step - loss: 16.9395 - val_loss: 19.9091\n",
      "Epoch 190/200\n",
      "3/3 [==============================] - 0s 5ms/step - loss: 16.9204 - val_loss: 19.9293\n",
      "Epoch 191/200\n",
      "3/3 [==============================] - 0s 5ms/step - loss: 16.9054 - val_loss: 19.9032\n",
      "Epoch 192/200\n",
      "3/3 [==============================] - 0s 11ms/step - loss: 16.9022 - val_loss: 19.8211\n",
      "Epoch 193/200\n",
      "3/3 [==============================] - 0s 6ms/step - loss: 16.8906 - val_loss: 19.7383\n",
      "Epoch 194/200\n",
      "3/3 [==============================] - 0s 6ms/step - loss: 16.8875 - val_loss: 19.6512\n",
      "Epoch 195/200\n",
      "3/3 [==============================] - 0s 6ms/step - loss: 16.9099 - val_loss: 19.6161\n",
      "Epoch 196/200\n",
      "3/3 [==============================] - 0s 6ms/step - loss: 16.8472 - val_loss: 19.7800\n",
      "Epoch 197/200\n",
      "3/3 [==============================] - 0s 5ms/step - loss: 16.7803 - val_loss: 20.0166\n",
      "Epoch 198/200\n",
      "3/3 [==============================] - 0s 6ms/step - loss: 16.7509 - val_loss: 20.2248\n",
      "Epoch 199/200\n",
      "3/3 [==============================] - 0s 6ms/step - loss: 16.7763 - val_loss: 20.4122\n",
      "Epoch 200/200\n",
      "3/3 [==============================] - 0s 6ms/step - loss: 16.7917 - val_loss: 20.5440\n"
     ]
    }
   ],
   "source": [
    "#run the actual model\n",
    "#%%time\n",
    "history_ele = area_model.fit(\n",
    "    train_features[\"AREA\"], train_labels,\n",
    "    epochs=200,\n",
    "    # suppress logging\n",
    "#    verbose=0,\n",
    "    # Calculate validation results on 20% of the training data\n",
    "    validation_split = 0.2)"
   ]
  },
  {
   "cell_type": "code",
   "execution_count": null,
   "metadata": {},
   "outputs": [],
   "source": []
  },
  {
   "cell_type": "code",
   "execution_count": 13,
   "metadata": {},
   "outputs": [
    {
     "data": {
      "text/html": [
       "<div>\n",
       "<style scoped>\n",
       "    .dataframe tbody tr th:only-of-type {\n",
       "        vertical-align: middle;\n",
       "    }\n",
       "\n",
       "    .dataframe tbody tr th {\n",
       "        vertical-align: top;\n",
       "    }\n",
       "\n",
       "    .dataframe thead th {\n",
       "        text-align: right;\n",
       "    }\n",
       "</style>\n",
       "<table border=\"1\" class=\"dataframe\">\n",
       "  <thead>\n",
       "    <tr style=\"text-align: right;\">\n",
       "      <th></th>\n",
       "      <th>loss</th>\n",
       "      <th>val_loss</th>\n",
       "      <th>epoch</th>\n",
       "    </tr>\n",
       "  </thead>\n",
       "  <tbody>\n",
       "    <tr>\n",
       "      <th>0</th>\n",
       "      <td>48.982368</td>\n",
       "      <td>56.238590</td>\n",
       "      <td>0</td>\n",
       "    </tr>\n",
       "    <tr>\n",
       "      <th>1</th>\n",
       "      <td>48.952541</td>\n",
       "      <td>56.210716</td>\n",
       "      <td>1</td>\n",
       "    </tr>\n",
       "  </tbody>\n",
       "</table>\n",
       "</div>"
      ],
      "text/plain": [
       "        loss   val_loss  epoch\n",
       "0  48.982368  56.238590      0\n",
       "1  48.952541  56.210716      1"
      ]
     },
     "execution_count": 13,
     "metadata": {},
     "output_type": "execute_result"
    }
   ],
   "source": [
    "hist_ele = pd.DataFrame(history_ele.history)\n",
    "hist_ele['epoch'] = history_ele.epoch\n",
    "hist_ele.tail()"
   ]
  },
  {
   "cell_type": "code",
   "execution_count": 14,
   "metadata": {},
   "outputs": [
    {
     "data": {
      "text/plain": [
       "56.465065002441406"
      ]
     },
     "execution_count": 14,
     "metadata": {},
     "output_type": "execute_result"
    }
   ],
   "source": [
    "ele_test_results = {}\n",
    "\n",
    "ele_test_results['elevation_model'] = area_model.evaluate(\n",
    "    test_features['AREA'],\n",
    "    test_labels, verbose=0)\n",
    "\n",
    "ele_test_results['elevation_model']"
   ]
  },
  {
   "cell_type": "code",
   "execution_count": 15,
   "metadata": {},
   "outputs": [],
   "source": [
    "# x = tf.linspace(0.0, 250, 251)\n",
    "# y = elevation_model.predict(x)\n",
    "\n",
    "predicted_thickness = area_model.predict(test_features['AREA'])"
   ]
  },
  {
   "cell_type": "code",
   "execution_count": 16,
   "metadata": {},
   "outputs": [
    {
     "data": {
      "text/plain": [
       "(0.0, 100.0)"
      ]
     },
     "execution_count": 16,
     "metadata": {},
     "output_type": "execute_result"
    },
    {
     "data": {
      "image/png": "[encoded data removed]",
      "text/plain": [
       "<Figure size 432x288 with 1 Axes>"
      ]
     },
     "metadata": {
      "needs_background": "light"
     },
     "output_type": "display_data"
    }
   ],
   "source": [
    "plt.subplots()\n",
    "plt.plot(test_labels,predicted_thickness,'o')\n",
    "plt.xlabel('Actual Thickness')\n",
    "plt.ylabel('Predicted Thickness')\n",
    "plt.plot((-1,-1),(1,1),'-')\n",
    "plt.xlim([0,100])\n",
    "plt.ylim([0,100])"
   ]
  },
  {
   "cell_type": "code",
   "execution_count": 17,
   "metadata": {},
   "outputs": [],
   "source": [
    "def plot_elevation(x, y):\n",
    "    plt.scatter(train_features['AREA'], train_labels, label='Data')\n",
    "    plt.plot(x, y, color='k', label='Predictions')\n",
    "    plt.xlabel('Area (km**2)')\n",
    "    plt.ylabel('Thickness')\n",
    "    plt.xlim((0,20))\n",
    "    plt.legend()"
   ]
  },
  {
   "cell_type": "code",
   "execution_count": 18,
   "metadata": {},
   "outputs": [
    {
     "data": {
      "image/png": "[encoded data removed]",
      "text/plain": [
       "<Figure size 432x288 with 1 Axes>"
      ]
     },
     "metadata": {
      "needs_background": "light"
     },
     "output_type": "display_data"
    }
   ],
   "source": [
    "x = tf.linspace(0.0, 20, 101)\n",
    "y = area_model.predict(x)\n",
    "plot_elevation(x,y)"
   ]
  },
  {
   "cell_type": "code",
   "execution_count": 19,
   "metadata": {},
   "outputs": [
    {
     "ename": "KeyError",
     "evalue": "'POINT_LAT'",
     "output_type": "error",
     "traceback": [
      "\u001b[0;31m---------------------------------------------------------------------------\u001b[0m",
      "\u001b[0;31mKeyError\u001b[0m                                  Traceback (most recent call last)",
      "\u001b[0;32m~/.local/lib/python3.9/site-packages/pandas/core/indexes/base.py\u001b[0m in \u001b[0;36mget_loc\u001b[0;34m(self, key, method, tolerance)\u001b[0m\n\u001b[1;32m   3360\u001b[0m             \u001b[0;32mtry\u001b[0m\u001b[0;34m:\u001b[0m\u001b[0;34m\u001b[0m\u001b[0;34m\u001b[0m\u001b[0m\n\u001b[0;32m-> 3361\u001b[0;31m                 \u001b[0;32mreturn\u001b[0m \u001b[0mself\u001b[0m\u001b[0;34m.\u001b[0m\u001b[0m_engine\u001b[0m\u001b[0;34m.\u001b[0m\u001b[0mget_loc\u001b[0m\u001b[0;34m(\u001b[0m\u001b[0mcasted_key\u001b[0m\u001b[0;34m)\u001b[0m\u001b[0;34m\u001b[0m\u001b[0;34m\u001b[0m\u001b[0m\n\u001b[0m\u001b[1;32m   3362\u001b[0m             \u001b[0;32mexcept\u001b[0m \u001b[0mKeyError\u001b[0m \u001b[0;32mas\u001b[0m \u001b[0merr\u001b[0m\u001b[0;34m:\u001b[0m\u001b[0;34m\u001b[0m\u001b[0;34m\u001b[0m\u001b[0m\n",
      "\u001b[0;32m~/.local/lib/python3.9/site-packages/pandas/_libs/index.pyx\u001b[0m in \u001b[0;36mpandas._libs.index.IndexEngine.get_loc\u001b[0;34m()\u001b[0m\n",
      "\u001b[0;32m~/.local/lib/python3.9/site-packages/pandas/_libs/index.pyx\u001b[0m in \u001b[0;36mpandas._libs.index.IndexEngine.get_loc\u001b[0;34m()\u001b[0m\n",
      "\u001b[0;32mpandas/_libs/hashtable_class_helper.pxi\u001b[0m in \u001b[0;36mpandas._libs.hashtable.PyObjectHashTable.get_item\u001b[0;34m()\u001b[0m\n",
      "\u001b[0;32mpandas/_libs/hashtable_class_helper.pxi\u001b[0m in \u001b[0;36mpandas._libs.hashtable.PyObjectHashTable.get_item\u001b[0;34m()\u001b[0m\n",
      "\u001b[0;31mKeyError\u001b[0m: 'POINT_LAT'",
      "\nThe above exception was the direct cause of the following exception:\n",
      "\u001b[0;31mKeyError\u001b[0m                                  Traceback (most recent call last)",
      "\u001b[0;32m<ipython-input-19-6e1b9e9c7dc2>\u001b[0m in \u001b[0;36m<module>\u001b[0;34m\u001b[0m\n\u001b[1;32m      1\u001b[0m \u001b[0;31m#Linear regression with latitude\u001b[0m\u001b[0;34m\u001b[0m\u001b[0;34m\u001b[0m\u001b[0;34m\u001b[0m\u001b[0m\n\u001b[1;32m      2\u001b[0m \u001b[0;34m\u001b[0m\u001b[0m\n\u001b[0;32m----> 3\u001b[0;31m \u001b[0mlatitude\u001b[0m \u001b[0;34m=\u001b[0m \u001b[0mnp\u001b[0m\u001b[0;34m.\u001b[0m\u001b[0marray\u001b[0m\u001b[0;34m(\u001b[0m\u001b[0mtrain_features\u001b[0m\u001b[0;34m[\u001b[0m\u001b[0;34m'POINT_LAT'\u001b[0m\u001b[0;34m]\u001b[0m\u001b[0;34m)\u001b[0m\u001b[0;34m\u001b[0m\u001b[0;34m\u001b[0m\u001b[0m\n\u001b[0m\u001b[1;32m      4\u001b[0m \u001b[0;34m\u001b[0m\u001b[0m\n\u001b[1;32m      5\u001b[0m \u001b[0mlatitude_normalizer\u001b[0m \u001b[0;34m=\u001b[0m \u001b[0mpreprocessing\u001b[0m\u001b[0;34m.\u001b[0m\u001b[0mNormalization\u001b[0m\u001b[0;34m(\u001b[0m\u001b[0minput_shape\u001b[0m\u001b[0;34m=\u001b[0m\u001b[0;34m[\u001b[0m\u001b[0;36m1\u001b[0m\u001b[0;34m,\u001b[0m\u001b[0;34m]\u001b[0m\u001b[0;34m,\u001b[0m \u001b[0maxis\u001b[0m\u001b[0;34m=\u001b[0m\u001b[0;32mNone\u001b[0m\u001b[0;34m)\u001b[0m\u001b[0;34m\u001b[0m\u001b[0;34m\u001b[0m\u001b[0m\n",
      "\u001b[0;32m~/.local/lib/python3.9/site-packages/pandas/core/frame.py\u001b[0m in \u001b[0;36m__getitem__\u001b[0;34m(self, key)\u001b[0m\n\u001b[1;32m   3453\u001b[0m             \u001b[0;32mif\u001b[0m \u001b[0mself\u001b[0m\u001b[0;34m.\u001b[0m\u001b[0mcolumns\u001b[0m\u001b[0;34m.\u001b[0m\u001b[0mnlevels\u001b[0m \u001b[0;34m>\u001b[0m \u001b[0;36m1\u001b[0m\u001b[0;34m:\u001b[0m\u001b[0;34m\u001b[0m\u001b[0;34m\u001b[0m\u001b[0m\n\u001b[1;32m   3454\u001b[0m                 \u001b[0;32mreturn\u001b[0m \u001b[0mself\u001b[0m\u001b[0;34m.\u001b[0m\u001b[0m_getitem_multilevel\u001b[0m\u001b[0;34m(\u001b[0m\u001b[0mkey\u001b[0m\u001b[0;34m)\u001b[0m\u001b[0;34m\u001b[0m\u001b[0;34m\u001b[0m\u001b[0m\n\u001b[0;32m-> 3455\u001b[0;31m             \u001b[0mindexer\u001b[0m \u001b[0;34m=\u001b[0m \u001b[0mself\u001b[0m\u001b[0;34m.\u001b[0m\u001b[0mcolumns\u001b[0m\u001b[0;34m.\u001b[0m\u001b[0mget_loc\u001b[0m\u001b[0;34m(\u001b[0m\u001b[0mkey\u001b[0m\u001b[0;34m)\u001b[0m\u001b[0;34m\u001b[0m\u001b[0;34m\u001b[0m\u001b[0m\n\u001b[0m\u001b[1;32m   3456\u001b[0m             \u001b[0;32mif\u001b[0m \u001b[0mis_integer\u001b[0m\u001b[0;34m(\u001b[0m\u001b[0mindexer\u001b[0m\u001b[0;34m)\u001b[0m\u001b[0;34m:\u001b[0m\u001b[0;34m\u001b[0m\u001b[0;34m\u001b[0m\u001b[0m\n\u001b[1;32m   3457\u001b[0m                 \u001b[0mindexer\u001b[0m \u001b[0;34m=\u001b[0m \u001b[0;34m[\u001b[0m\u001b[0mindexer\u001b[0m\u001b[0;34m]\u001b[0m\u001b[0;34m\u001b[0m\u001b[0;34m\u001b[0m\u001b[0m\n",
      "\u001b[0;32m~/.local/lib/python3.9/site-packages/pandas/core/indexes/base.py\u001b[0m in \u001b[0;36mget_loc\u001b[0;34m(self, key, method, tolerance)\u001b[0m\n\u001b[1;32m   3361\u001b[0m                 \u001b[0;32mreturn\u001b[0m \u001b[0mself\u001b[0m\u001b[0;34m.\u001b[0m\u001b[0m_engine\u001b[0m\u001b[0;34m.\u001b[0m\u001b[0mget_loc\u001b[0m\u001b[0;34m(\u001b[0m\u001b[0mcasted_key\u001b[0m\u001b[0;34m)\u001b[0m\u001b[0;34m\u001b[0m\u001b[0;34m\u001b[0m\u001b[0m\n\u001b[1;32m   3362\u001b[0m             \u001b[0;32mexcept\u001b[0m \u001b[0mKeyError\u001b[0m \u001b[0;32mas\u001b[0m \u001b[0merr\u001b[0m\u001b[0;34m:\u001b[0m\u001b[0;34m\u001b[0m\u001b[0;34m\u001b[0m\u001b[0m\n\u001b[0;32m-> 3363\u001b[0;31m                 \u001b[0;32mraise\u001b[0m \u001b[0mKeyError\u001b[0m\u001b[0;34m(\u001b[0m\u001b[0mkey\u001b[0m\u001b[0;34m)\u001b[0m \u001b[0;32mfrom\u001b[0m \u001b[0merr\u001b[0m\u001b[0;34m\u001b[0m\u001b[0;34m\u001b[0m\u001b[0m\n\u001b[0m\u001b[1;32m   3364\u001b[0m \u001b[0;34m\u001b[0m\u001b[0m\n\u001b[1;32m   3365\u001b[0m         \u001b[0;32mif\u001b[0m \u001b[0mis_scalar\u001b[0m\u001b[0;34m(\u001b[0m\u001b[0mkey\u001b[0m\u001b[0;34m)\u001b[0m \u001b[0;32mand\u001b[0m \u001b[0misna\u001b[0m\u001b[0;34m(\u001b[0m\u001b[0mkey\u001b[0m\u001b[0;34m)\u001b[0m \u001b[0;32mand\u001b[0m \u001b[0;32mnot\u001b[0m \u001b[0mself\u001b[0m\u001b[0;34m.\u001b[0m\u001b[0mhasnans\u001b[0m\u001b[0;34m:\u001b[0m\u001b[0;34m\u001b[0m\u001b[0;34m\u001b[0m\u001b[0m\n",
      "\u001b[0;31mKeyError\u001b[0m: 'POINT_LAT'"
     ]
    }
   ],
   "source": [
    "#Linear regression with latitude\n",
    "\n",
    "latitude = np.array(train_features['POINT_LAT'])\n",
    "\n",
    "latitude_normalizer = preprocessing.Normalization(input_shape=[1,], axis=None)\n",
    "latitude_normalizer.adapt(latitude)\n",
    "\n",
    "\n",
    "latitude_model = tf.keras.Sequential([\n",
    "    latitude_normalizer,\n",
    "    layers.Dense(units=1)\n",
    "])\n",
    "\n",
    "#latitude_model.summary()\n",
    "\n",
    "latitude_model.compile(\n",
    "    optimizer=tf.optimizers.Adam(learning_rate=0.1),\n",
    "    loss='mean_absolute_error')\n",
    "\n"
   ]
  },
  {
   "cell_type": "code",
   "execution_count": null,
   "metadata": {},
   "outputs": [],
   "source": [
    "%%time\n",
    "history_lat = latitude_model.fit(\n",
    "    train_features['POINT_LAT'], train_labels,\n",
    "    epochs=100,\n",
    "    # suppress logging\n",
    "    verbose=0,\n",
    "    # Calculate validation results on 20% of the training data\n",
    "    validation_split = 0.2)"
   ]
  },
  {
   "cell_type": "code",
   "execution_count": null,
   "metadata": {},
   "outputs": [],
   "source": [
    "hist_lat = pd.DataFrame(history_lat.history)\n",
    "hist_lat['epoch'] = history.epoch\n",
    "hist_lat.tail()"
   ]
  },
  {
   "cell_type": "code",
   "execution_count": null,
   "metadata": {},
   "outputs": [],
   "source": [
    "def plot_loss(history):\n",
    "  plt.plot(history.history['loss'], label='loss')\n",
    "  plt.plot(history.history['val_loss'], label='val_loss')\n",
    "  plt.ylim([0, 10])\n",
    "  plt.xlabel('Epoch')\n",
    "  plt.ylabel('Error [Thickness]')\n",
    "  plt.legend()\n",
    "  plt.grid(True)"
   ]
  },
  {
   "cell_type": "code",
   "execution_count": null,
   "metadata": {},
   "outputs": [],
   "source": [
    "plot_loss(history)"
   ]
  },
  {
   "cell_type": "code",
   "execution_count": null,
   "metadata": {},
   "outputs": [],
   "source": [
    "test_results = {}\n",
    "\n",
    "test_results['latitude_model'] = latitude_model.evaluate(\n",
    "    test_features['POINT_LAT'],\n",
    "    test_labels, verbose=0)"
   ]
  },
  {
   "cell_type": "code",
   "execution_count": null,
   "metadata": {},
   "outputs": [],
   "source": [
    "x = tf.linspace(0.0, 250, 251)\n",
    "y = latitude_model.predict(x)"
   ]
  },
  {
   "cell_type": "code",
   "execution_count": null,
   "metadata": {},
   "outputs": [],
   "source": [
    "def plot_elevation(x, y):\n",
    "  plt.scatter(train_features['POINT_LAT'], train_labels, label='Data')\n",
    "  plt.plot(x, y, color='k', label='Predictions')\n",
    "  plt.xlabel('Latitude')\n",
    "  plt.ylabel('Thickness')\n",
    "  plt.legend()"
   ]
  },
  {
   "cell_type": "code",
   "execution_count": null,
   "metadata": {},
   "outputs": [],
   "source": [
    "plot_elevation(x,y)"
   ]
  },
  {
   "cell_type": "code",
   "execution_count": null,
   "metadata": {},
   "outputs": [],
   "source": [
    "#Linear regression with longitude\n",
    "\n",
    "longitude = np.array(train_features['POINT_LON'])\n",
    "\n",
    "longitude_normalizer = preprocessing.Normalization(input_shape=[1,], axis=None)\n",
    "longitude_normalizer.adapt(latitude)\n",
    "\n",
    "\n",
    "longitude_model = tf.keras.Sequential([\n",
    "    longitude_normalizer,\n",
    "    layers.Dense(units=1)\n",
    "])\n",
    "\n",
    "#longitude_model.summary()\n",
    "\n",
    "longitude_model.compile(\n",
    "    optimizer=tf.optimizers.Adam(learning_rate=0.1),\n",
    "    loss='mean_absolute_error')\n"
   ]
  },
  {
   "cell_type": "code",
   "execution_count": null,
   "metadata": {},
   "outputs": [],
   "source": [
    "%%time\n",
    "history = longitude_model.fit(\n",
    "    train_features['POINT_LON'], train_labels,\n",
    "    epochs=100,\n",
    "    # suppress logging\n",
    "    verbose=0,\n",
    "    # Calculate validation results on 20% of the training data\n",
    "    validation_split = 0.2)"
   ]
  },
  {
   "cell_type": "code",
   "execution_count": null,
   "metadata": {},
   "outputs": [],
   "source": [
    "hist = pd.DataFrame(history.history)\n",
    "hist['epoch'] = history.epoch\n",
    "hist.tail()"
   ]
  },
  {
   "cell_type": "code",
   "execution_count": null,
   "metadata": {},
   "outputs": [],
   "source": [
    "def plot_loss(history):\n",
    "  plt.plot(history.history['loss'], label='loss')\n",
    "  plt.plot(history.history['val_loss'], label='val_loss')\n",
    "  plt.ylim([0, 10])\n",
    "  plt.xlabel('Epoch')\n",
    "  plt.ylabel('Error [Thickness]')\n",
    "  plt.legend()\n",
    "  plt.grid(True)"
   ]
  },
  {
   "cell_type": "code",
   "execution_count": null,
   "metadata": {},
   "outputs": [],
   "source": [
    "plot_loss(history)"
   ]
  },
  {
   "cell_type": "code",
   "execution_count": null,
   "metadata": {},
   "outputs": [],
   "source": [
    "test_results = {}\n",
    "\n",
    "test_results['longitude_model'] = longitude_model.evaluate(\n",
    "    test_features['POINT_LON'],\n",
    "    test_labels, verbose=0)"
   ]
  },
  {
   "cell_type": "code",
   "execution_count": null,
   "metadata": {},
   "outputs": [],
   "source": [
    "x = tf.linspace(0.0, 250, 251)\n",
    "y = latitude_model.predict(x)"
   ]
  },
  {
   "cell_type": "code",
   "execution_count": null,
   "metadata": {},
   "outputs": [],
   "source": [
    "def plot_elevation(x, y):\n",
    "  plt.scatter(train_features['POINT_LON'], train_labels, label='Data')\n",
    "  plt.plot(x, y, color='k', label='Predictions')\n",
    "  plt.xlabel('Latitude')\n",
    "  plt.ylabel('Thickness')\n",
    "  plt.legend()"
   ]
  },
  {
   "cell_type": "code",
   "execution_count": null,
   "metadata": {
    "scrolled": true
   },
   "outputs": [],
   "source": [
    "plot_elevation(x,y)"
   ]
  },
  {
   "cell_type": "code",
   "execution_count": null,
   "metadata": {},
   "outputs": [],
   "source": [
    "linear_model = tf.keras.Sequential([\n",
    "    normalizer,\n",
    "    layers.Dense(units=1)\n",
    "])"
   ]
  },
  {
   "cell_type": "code",
   "execution_count": null,
   "metadata": {},
   "outputs": [],
   "source": [
    "linear_model.predict(train_features[:10])"
   ]
  },
  {
   "cell_type": "code",
   "execution_count": null,
   "metadata": {},
   "outputs": [],
   "source": [
    "linear_model.layers[1].kernel"
   ]
  },
  {
   "cell_type": "code",
   "execution_count": null,
   "metadata": {},
   "outputs": [],
   "source": [
    "linear_model.compile(\n",
    "    optimizer=tf.optimizers.Adam(learning_rate=0.1),\n",
    "    loss='mean_absolute_error')"
   ]
  },
  {
   "cell_type": "code",
   "execution_count": null,
   "metadata": {},
   "outputs": [],
   "source": []
  },
  {
   "cell_type": "code",
   "execution_count": null,
   "metadata": {},
   "outputs": [],
   "source": []
  },
  {
   "cell_type": "code",
   "execution_count": null,
   "metadata": {},
   "outputs": [],
   "source": [
    "%%time\n",
    "history = linear_model.fit(\n",
    "    train_features, train_labels, \n",
    "    epochs=100,\n",
    "    # suppress logging\n",
    "    verbose=0,\n",
    "    # Calculate validation results on 20% of the training data\n",
    "    validation_split = 0.2)"
   ]
  },
  {
   "cell_type": "code",
   "execution_count": null,
   "metadata": {},
   "outputs": [],
   "source": []
  },
  {
   "cell_type": "code",
   "execution_count": null,
   "metadata": {},
   "outputs": [],
   "source": [
    "#pfm function using multivariable regression\n",
    "\n",
    "linear_model = tf.keras.Sequential([\n",
    "    normalizer,\n",
    "    layers.Dense(units=1)\n",
    "])\n",
    "\n",
    "linear_model.predict(train_features[:10])"
   ]
  },
  {
   "cell_type": "code",
   "execution_count": null,
   "metadata": {},
   "outputs": [],
   "source": [
    "linear_model.layers[1].kernel"
   ]
  },
  {
   "cell_type": "code",
   "execution_count": null,
   "metadata": {},
   "outputs": [],
   "source": [
    "linear_model.compile(\n",
    "    optimizer=tf.optimizers.Adam(learning_rate=0.1),\n",
    "    loss='mean_absolute_error')"
   ]
  },
  {
   "cell_type": "code",
   "execution_count": null,
   "metadata": {},
   "outputs": [],
   "source": [
    "%%time\n",
    "history = linear_model.fit(\n",
    "    train_features, train_labels, \n",
    "    epochs=100,\n",
    "    # suppress logging\n",
    "    verbose=0,\n",
    "    # Calculate validation results on 20% of the training data\n",
    "    validation_split = 0.2)"
   ]
  },
  {
   "cell_type": "code",
   "execution_count": null,
   "metadata": {},
   "outputs": [],
   "source": [
    "def plot_loss(history):\n",
    "  plt.plot(history.history['loss'], label='loss')\n",
    "  plt.plot(history.history['val_loss'], label='val_loss')\n",
    "  plt.ylim([0, 1000])\n",
    "  plt.xlabel('Epoch')\n",
    "  plt.ylabel('Error [Thickness]')\n",
    "  plt.legend()\n",
    "  plt.grid(True)\n",
    "\n",
    "plot_loss(history)"
   ]
  },
  {
   "cell_type": "code",
   "execution_count": null,
   "metadata": {},
   "outputs": [],
   "source": []
  },
  {
   "cell_type": "code",
   "execution_count": null,
   "metadata": {},
   "outputs": [],
   "source": []
  },
  {
   "cell_type": "code",
   "execution_count": null,
   "metadata": {},
   "outputs": [],
   "source": []
  }
 ],
 "metadata": {
  "kernelspec": {
   "display_name": "Python 3",
   "language": "python",
   "name": "python3"
  },
  "language_info": {
   "codemirror_mode": {
    "name": "ipython",
    "version": 3
   },
   "file_extension": ".py",
   "mimetype": "text/x-python",
   "name": "python",
   "nbconvert_exporter": "python",
   "pygments_lexer": "ipython3",
   "version": "3.9.2"
  }
 },
 "nbformat": 4,
 "nbformat_minor": 4
}
