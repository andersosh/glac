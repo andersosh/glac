{
 "cells": [
  {
   "cell_type": "code",
   "execution_count": 14,
   "metadata": {},
   "outputs": [
    {
     "name": "stdout",
     "output_type": "stream",
     "text": [
      "2.5.0\n"
     ]
    },
    {
     "name": "stderr",
     "output_type": "stream",
     "text": [
      "/usr/local/lib/python3.9/site-packages/IPython/core/interactiveshell.py:3441: DtypeWarning: Columns (2,4,5,12) have mixed types.Specify dtype option on import or set low_memory=False.\n",
      "  exec(code_obj, self.user_global_ns, self.user_ns)\n"
     ]
    }
   ],
   "source": [
    "import matplotlib.pyplot as plt\n",
    "import numpy as np\n",
    "import pandas as pd\n",
    "import seaborn as sns\n",
    "import tensorflow as tf\n",
    "from tensorflow import keras\n",
    "from tensorflow.keras import layers\n",
    "from tensorflow.keras.layers.experimental import preprocessing\n",
    "\n",
    "print(tf.__version__)\n",
    "# Make numpy printouts easier to read.\n",
    "np.set_printoptions(precision=3, suppress=True)\n",
    "\n",
    "\n",
    "#url = 'http://archive.ics.uci.edu/ml/machine-learning-databases/auto-mpg/auto-mpg.data'\n",
    "#column_names = ['MPG', 'Cylinders', 'Displacement', 'Horsepower', 'Weight',\n",
    "               # 'Acceleration', 'Model Year', 'Origin']\n",
    "#col_names = [\"GlaThiDa_ID\", \"POLITICAL_UNIT\", \"GLACIER_NAME\", \"SURVEY_DATE\", \"PROFILE_ID\", \"POINT_ID\", \"POINT_LAT\", \"POINT_LON\", \"ELEVATION\", \"THICKNESS\", \"THICKNESS_UNCERTAINTY\", \"DATA_FLAG\"]\n",
    "\n",
    "raw_dataset = pd.read_csv(\"/data/fast0/datasets/glathida-3.1.0/data/TTT.csv\")\n",
    "# raw_dataset = pd.read_csv(\"~/stuff/coding/glacier/glac_thick/data/TTT.csv\")\n",
    "\n",
    "dataset = raw_dataset.copy()\n",
    "\n"
   ]
  },
  {
   "cell_type": "code",
   "execution_count": 15,
   "metadata": {},
   "outputs": [
    {
     "data": {
      "text/html": [
       "<div>\n",
       "<style scoped>\n",
       "    .dataframe tbody tr th:only-of-type {\n",
       "        vertical-align: middle;\n",
       "    }\n",
       "\n",
       "    .dataframe tbody tr th {\n",
       "        vertical-align: top;\n",
       "    }\n",
       "\n",
       "    .dataframe thead th {\n",
       "        text-align: right;\n",
       "    }\n",
       "</style>\n",
       "<table border=\"1\" class=\"dataframe\">\n",
       "  <thead>\n",
       "    <tr style=\"text-align: right;\">\n",
       "      <th></th>\n",
       "      <th>GlaThiDa_ID</th>\n",
       "      <th>POLITICAL_UNIT</th>\n",
       "      <th>GLACIER_NAME</th>\n",
       "      <th>SURVEY_DATE</th>\n",
       "      <th>PROFILE_ID</th>\n",
       "      <th>POINT_ID</th>\n",
       "      <th>POINT_LAT</th>\n",
       "      <th>POINT_LON</th>\n",
       "      <th>ELEVATION</th>\n",
       "      <th>THICKNESS</th>\n",
       "      <th>THICKNESS_UNCERTAINTY</th>\n",
       "      <th>DATA_FLAG</th>\n",
       "      <th>REMARKS</th>\n",
       "    </tr>\n",
       "  </thead>\n",
       "  <tbody>\n",
       "    <tr>\n",
       "      <th>3854274</th>\n",
       "      <td>6630</td>\n",
       "      <td>AT</td>\n",
       "      <td>MULLWITZKEES</td>\n",
       "      <td>19989999.0</td>\n",
       "      <td>NaN</td>\n",
       "      <td>27</td>\n",
       "      <td>47.092690</td>\n",
       "      <td>12.380504</td>\n",
       "      <td>3329.0</td>\n",
       "      <td>36</td>\n",
       "      <td>4.0</td>\n",
       "      <td>NaN</td>\n",
       "      <td>NaN</td>\n",
       "    </tr>\n",
       "    <tr>\n",
       "      <th>3854275</th>\n",
       "      <td>6630</td>\n",
       "      <td>AT</td>\n",
       "      <td>MULLWITZKEES</td>\n",
       "      <td>19989999.0</td>\n",
       "      <td>NaN</td>\n",
       "      <td>28</td>\n",
       "      <td>47.093780</td>\n",
       "      <td>12.379642</td>\n",
       "      <td>3353.0</td>\n",
       "      <td>26</td>\n",
       "      <td>3.0</td>\n",
       "      <td>NaN</td>\n",
       "      <td>NaN</td>\n",
       "    </tr>\n",
       "    <tr>\n",
       "      <th>3854276</th>\n",
       "      <td>6630</td>\n",
       "      <td>AT</td>\n",
       "      <td>MULLWITZKEES</td>\n",
       "      <td>19989999.0</td>\n",
       "      <td>NaN</td>\n",
       "      <td>29</td>\n",
       "      <td>47.094839</td>\n",
       "      <td>12.378200</td>\n",
       "      <td>3381.0</td>\n",
       "      <td>39</td>\n",
       "      <td>4.0</td>\n",
       "      <td>NaN</td>\n",
       "      <td>NaN</td>\n",
       "    </tr>\n",
       "    <tr>\n",
       "      <th>3854277</th>\n",
       "      <td>6630</td>\n",
       "      <td>AT</td>\n",
       "      <td>MULLWITZKEES</td>\n",
       "      <td>19989999.0</td>\n",
       "      <td>NaN</td>\n",
       "      <td>30</td>\n",
       "      <td>47.094829</td>\n",
       "      <td>12.378174</td>\n",
       "      <td>3381.0</td>\n",
       "      <td>39</td>\n",
       "      <td>4.0</td>\n",
       "      <td>NaN</td>\n",
       "      <td>NaN</td>\n",
       "    </tr>\n",
       "    <tr>\n",
       "      <th>3854278</th>\n",
       "      <td>6631</td>\n",
       "      <td>AT</td>\n",
       "      <td>MULLWITZKEES</td>\n",
       "      <td>20039999.0</td>\n",
       "      <td>NaN</td>\n",
       "      <td>1</td>\n",
       "      <td>47.094853</td>\n",
       "      <td>12.374525</td>\n",
       "      <td>3369.0</td>\n",
       "      <td>50</td>\n",
       "      <td>5.0</td>\n",
       "      <td>NaN</td>\n",
       "      <td>NaN</td>\n",
       "    </tr>\n",
       "  </tbody>\n",
       "</table>\n",
       "</div>"
      ],
      "text/plain": [
       "         GlaThiDa_ID POLITICAL_UNIT  GLACIER_NAME  SURVEY_DATE PROFILE_ID  \\\n",
       "3854274         6630             AT  MULLWITZKEES   19989999.0        NaN   \n",
       "3854275         6630             AT  MULLWITZKEES   19989999.0        NaN   \n",
       "3854276         6630             AT  MULLWITZKEES   19989999.0        NaN   \n",
       "3854277         6630             AT  MULLWITZKEES   19989999.0        NaN   \n",
       "3854278         6631             AT  MULLWITZKEES   20039999.0        NaN   \n",
       "\n",
       "        POINT_ID  POINT_LAT  POINT_LON  ELEVATION  THICKNESS  \\\n",
       "3854274       27  47.092690  12.380504     3329.0         36   \n",
       "3854275       28  47.093780  12.379642     3353.0         26   \n",
       "3854276       29  47.094839  12.378200     3381.0         39   \n",
       "3854277       30  47.094829  12.378174     3381.0         39   \n",
       "3854278        1  47.094853  12.374525     3369.0         50   \n",
       "\n",
       "         THICKNESS_UNCERTAINTY  DATA_FLAG REMARKS  \n",
       "3854274                    4.0        NaN     NaN  \n",
       "3854275                    3.0        NaN     NaN  \n",
       "3854276                    4.0        NaN     NaN  \n",
       "3854277                    4.0        NaN     NaN  \n",
       "3854278                    5.0        NaN     NaN  "
      ]
     },
     "execution_count": 15,
     "metadata": {},
     "output_type": "execute_result"
    }
   ],
   "source": [
    "dataset.tail()"
   ]
  },
  {
   "cell_type": "code",
   "execution_count": 16,
   "metadata": {
    "scrolled": true
   },
   "outputs": [],
   "source": [
    "#drop everything but lat, long, elevation, thickness\n",
    "\n",
    "dataset = dataset.drop(\"GlaThiDa_ID\", axis=1)\n",
    "dataset = dataset.drop(\"POLITICAL_UNIT\", axis=1)\n",
    "dataset = dataset.drop(\"GLACIER_NAME\", axis=1)\n",
    "dataset = dataset.drop(\"SURVEY_DATE\", axis=1)\n",
    "dataset = dataset.drop(\"PROFILE_ID\", axis=1)\n",
    "dataset = dataset.drop(\"POINT_ID\", axis=1)\n",
    "dataset = dataset.drop(\"THICKNESS_UNCERTAINTY\", axis=1)\n",
    "dataset = dataset.drop(\"DATA_FLAG\", axis=1)\n",
    "dataset = dataset.drop(\"REMARKS\", axis=1)\n",
    " \n",
    "dataset = dataset.dropna()"
   ]
  },
  {
   "cell_type": "markdown",
   "metadata": {},
   "source": []
  },
  {
   "cell_type": "code",
   "execution_count": 17,
   "metadata": {},
   "outputs": [],
   "source": [
    "train_dataset = dataset.sample(frac=0.8, random_state=0)\n",
    "test_dataset = dataset.drop(train_dataset.index)"
   ]
  },
  {
   "cell_type": "code",
   "execution_count": 18,
   "metadata": {},
   "outputs": [],
   "source": [
    "# sns.pairplot(train_dataset[[\"THICKNESS\", \"ELEVATION\", \"POINT_LAT\", \"POINT_LON\"]], diag_kind='kde')"
   ]
  },
  {
   "cell_type": "code",
   "execution_count": 19,
   "metadata": {},
   "outputs": [
    {
     "data": {
      "text/html": [
       "<div>\n",
       "<style scoped>\n",
       "    .dataframe tbody tr th:only-of-type {\n",
       "        vertical-align: middle;\n",
       "    }\n",
       "\n",
       "    .dataframe tbody tr th {\n",
       "        vertical-align: top;\n",
       "    }\n",
       "\n",
       "    .dataframe thead th {\n",
       "        text-align: right;\n",
       "    }\n",
       "</style>\n",
       "<table border=\"1\" class=\"dataframe\">\n",
       "  <thead>\n",
       "    <tr style=\"text-align: right;\">\n",
       "      <th></th>\n",
       "      <th>count</th>\n",
       "      <th>mean</th>\n",
       "      <th>std</th>\n",
       "      <th>min</th>\n",
       "      <th>25%</th>\n",
       "      <th>50%</th>\n",
       "      <th>75%</th>\n",
       "      <th>max</th>\n",
       "    </tr>\n",
       "  </thead>\n",
       "  <tbody>\n",
       "    <tr>\n",
       "      <th>POINT_LAT</th>\n",
       "      <td>2698267.0</td>\n",
       "      <td>47.477816</td>\n",
       "      <td>53.238428</td>\n",
       "      <td>-78.305458</td>\n",
       "      <td>46.405156</td>\n",
       "      <td>70.346832</td>\n",
       "      <td>78.809574</td>\n",
       "      <td>82.963377</td>\n",
       "    </tr>\n",
       "    <tr>\n",
       "      <th>POINT_LON</th>\n",
       "      <td>2698267.0</td>\n",
       "      <td>-46.458083</td>\n",
       "      <td>45.484560</td>\n",
       "      <td>-149.046814</td>\n",
       "      <td>-78.210226</td>\n",
       "      <td>-67.742430</td>\n",
       "      <td>7.805468</td>\n",
       "      <td>170.284390</td>\n",
       "    </tr>\n",
       "    <tr>\n",
       "      <th>ELEVATION</th>\n",
       "      <td>2698267.0</td>\n",
       "      <td>1175.033891</td>\n",
       "      <td>937.446613</td>\n",
       "      <td>-839.000000</td>\n",
       "      <td>431.000000</td>\n",
       "      <td>898.000000</td>\n",
       "      <td>1686.000000</td>\n",
       "      <td>7846.000000</td>\n",
       "    </tr>\n",
       "    <tr>\n",
       "      <th>THICKNESS</th>\n",
       "      <td>2698267.0</td>\n",
       "      <td>295.750914</td>\n",
       "      <td>243.823599</td>\n",
       "      <td>0.000000</td>\n",
       "      <td>96.000000</td>\n",
       "      <td>259.000000</td>\n",
       "      <td>435.000000</td>\n",
       "      <td>3151.000000</td>\n",
       "    </tr>\n",
       "  </tbody>\n",
       "</table>\n",
       "</div>"
      ],
      "text/plain": [
       "               count         mean         std         min         25%  \\\n",
       "POINT_LAT  2698267.0    47.477816   53.238428  -78.305458   46.405156   \n",
       "POINT_LON  2698267.0   -46.458083   45.484560 -149.046814  -78.210226   \n",
       "ELEVATION  2698267.0  1175.033891  937.446613 -839.000000  431.000000   \n",
       "THICKNESS  2698267.0   295.750914  243.823599    0.000000   96.000000   \n",
       "\n",
       "                  50%          75%          max  \n",
       "POINT_LAT   70.346832    78.809574    82.963377  \n",
       "POINT_LON  -67.742430     7.805468   170.284390  \n",
       "ELEVATION  898.000000  1686.000000  7846.000000  \n",
       "THICKNESS  259.000000   435.000000  3151.000000  "
      ]
     },
     "execution_count": 19,
     "metadata": {},
     "output_type": "execute_result"
    }
   ],
   "source": [
    "train_dataset.describe().transpose()"
   ]
  },
  {
   "cell_type": "code",
   "execution_count": 20,
   "metadata": {},
   "outputs": [],
   "source": [
    "train_features = train_dataset.copy()\n",
    "test_features = test_dataset.copy()\n",
    "\n",
    "train_labels = train_features.pop(\"THICKNESS\")\n",
    "test_labels = test_features.pop(\"THICKNESS\")"
   ]
  },
  {
   "cell_type": "code",
   "execution_count": 21,
   "metadata": {},
   "outputs": [
    {
     "data": {
      "text/html": [
       "<div>\n",
       "<style scoped>\n",
       "    .dataframe tbody tr th:only-of-type {\n",
       "        vertical-align: middle;\n",
       "    }\n",
       "\n",
       "    .dataframe tbody tr th {\n",
       "        vertical-align: top;\n",
       "    }\n",
       "\n",
       "    .dataframe thead th {\n",
       "        text-align: right;\n",
       "    }\n",
       "</style>\n",
       "<table border=\"1\" class=\"dataframe\">\n",
       "  <thead>\n",
       "    <tr style=\"text-align: right;\">\n",
       "      <th></th>\n",
       "      <th>mean</th>\n",
       "      <th>std</th>\n",
       "    </tr>\n",
       "  </thead>\n",
       "  <tbody>\n",
       "    <tr>\n",
       "      <th>POINT_LAT</th>\n",
       "      <td>47.477816</td>\n",
       "      <td>53.238428</td>\n",
       "    </tr>\n",
       "    <tr>\n",
       "      <th>POINT_LON</th>\n",
       "      <td>-46.458083</td>\n",
       "      <td>45.484560</td>\n",
       "    </tr>\n",
       "    <tr>\n",
       "      <th>ELEVATION</th>\n",
       "      <td>1175.033891</td>\n",
       "      <td>937.446613</td>\n",
       "    </tr>\n",
       "  </tbody>\n",
       "</table>\n",
       "</div>"
      ],
      "text/plain": [
       "                  mean         std\n",
       "POINT_LAT    47.477816   53.238428\n",
       "POINT_LON   -46.458083   45.484560\n",
       "ELEVATION  1175.033891  937.446613"
      ]
     },
     "execution_count": 21,
     "metadata": {},
     "output_type": "execute_result"
    }
   ],
   "source": [
    "train_features.describe().transpose()[['mean', 'std']]"
   ]
  },
  {
   "cell_type": "code",
   "execution_count": 22,
   "metadata": {},
   "outputs": [],
   "source": [
    "normalizer = preprocessing.Normalization(axis=-1)"
   ]
  },
  {
   "cell_type": "code",
   "execution_count": 23,
   "metadata": {},
   "outputs": [],
   "source": [
    "#had to convert train features to float to use the normalizer.\n",
    "#already was float, but internet told me to change it and now it works\n",
    "#train_features_x = np.asarray(train_features).astype(np.float32)\n",
    "#reran notebook and problem went away\n",
    "normalizer.adapt(np.array(train_features))"
   ]
  },
  {
   "cell_type": "code",
   "execution_count": 24,
   "metadata": {},
   "outputs": [
    {
     "name": "stdout",
     "output_type": "stream",
     "text": [
      "[  47.478  -46.458 1175.015]\n"
     ]
    }
   ],
   "source": [
    "print(normalizer.mean.numpy())"
   ]
  },
  {
   "cell_type": "code",
   "execution_count": 25,
   "metadata": {},
   "outputs": [
    {
     "name": "stdout",
     "output_type": "stream",
     "text": [
      "First example: [[-72.56 -70.   333.  ]]\n",
      "\n",
      "Normalized: [[-2.25 -0.52 -0.9 ]]\n"
     ]
    }
   ],
   "source": [
    "first = np.array(train_features[:1])\n",
    "\n",
    "with np.printoptions(precision=2, suppress=True):\n",
    "  print('First example:', first)\n",
    "  print()\n",
    "  print('Normalized:', normalizer(first).numpy())"
   ]
  },
  {
   "cell_type": "code",
   "execution_count": 26,
   "metadata": {},
   "outputs": [
    {
     "data": {
      "text/html": [
       "<div>\n",
       "<style scoped>\n",
       "    .dataframe tbody tr th:only-of-type {\n",
       "        vertical-align: middle;\n",
       "    }\n",
       "\n",
       "    .dataframe tbody tr th {\n",
       "        vertical-align: top;\n",
       "    }\n",
       "\n",
       "    .dataframe thead th {\n",
       "        text-align: right;\n",
       "    }\n",
       "</style>\n",
       "<table border=\"1\" class=\"dataframe\">\n",
       "  <thead>\n",
       "    <tr style=\"text-align: right;\">\n",
       "      <th></th>\n",
       "      <th>POINT_LAT</th>\n",
       "      <th>POINT_LON</th>\n",
       "      <th>ELEVATION</th>\n",
       "    </tr>\n",
       "  </thead>\n",
       "  <tbody>\n",
       "    <tr>\n",
       "      <th>3339651</th>\n",
       "      <td>-72.564441</td>\n",
       "      <td>-69.998971</td>\n",
       "      <td>333.0</td>\n",
       "    </tr>\n",
       "    <tr>\n",
       "      <th>2943153</th>\n",
       "      <td>81.867034</td>\n",
       "      <td>-77.017853</td>\n",
       "      <td>1081.0</td>\n",
       "    </tr>\n",
       "    <tr>\n",
       "      <th>2657681</th>\n",
       "      <td>66.433727</td>\n",
       "      <td>-35.430230</td>\n",
       "      <td>1296.0</td>\n",
       "    </tr>\n",
       "    <tr>\n",
       "      <th>3064407</th>\n",
       "      <td>78.118836</td>\n",
       "      <td>-80.193036</td>\n",
       "      <td>949.0</td>\n",
       "    </tr>\n",
       "    <tr>\n",
       "      <th>2240074</th>\n",
       "      <td>76.954024</td>\n",
       "      <td>-67.192816</td>\n",
       "      <td>1121.0</td>\n",
       "    </tr>\n",
       "    <tr>\n",
       "      <th>...</th>\n",
       "      <td>...</td>\n",
       "      <td>...</td>\n",
       "      <td>...</td>\n",
       "    </tr>\n",
       "    <tr>\n",
       "      <th>1289740</th>\n",
       "      <td>79.978951</td>\n",
       "      <td>19.964506</td>\n",
       "      <td>542.0</td>\n",
       "    </tr>\n",
       "    <tr>\n",
       "      <th>220814</th>\n",
       "      <td>45.958592</td>\n",
       "      <td>7.402746</td>\n",
       "      <td>2695.0</td>\n",
       "    </tr>\n",
       "    <tr>\n",
       "      <th>3416043</th>\n",
       "      <td>69.411009</td>\n",
       "      <td>-27.024702</td>\n",
       "      <td>2322.0</td>\n",
       "    </tr>\n",
       "    <tr>\n",
       "      <th>3694651</th>\n",
       "      <td>-70.252527</td>\n",
       "      <td>-70.028377</td>\n",
       "      <td>67.0</td>\n",
       "    </tr>\n",
       "    <tr>\n",
       "      <th>2265873</th>\n",
       "      <td>78.886386</td>\n",
       "      <td>-78.790296</td>\n",
       "      <td>1282.0</td>\n",
       "    </tr>\n",
       "  </tbody>\n",
       "</table>\n",
       "<p>2698267 rows × 3 columns</p>\n",
       "</div>"
      ],
      "text/plain": [
       "         POINT_LAT  POINT_LON  ELEVATION\n",
       "3339651 -72.564441 -69.998971      333.0\n",
       "2943153  81.867034 -77.017853     1081.0\n",
       "2657681  66.433727 -35.430230     1296.0\n",
       "3064407  78.118836 -80.193036      949.0\n",
       "2240074  76.954024 -67.192816     1121.0\n",
       "...            ...        ...        ...\n",
       "1289740  79.978951  19.964506      542.0\n",
       "220814   45.958592   7.402746     2695.0\n",
       "3416043  69.411009 -27.024702     2322.0\n",
       "3694651 -70.252527 -70.028377       67.0\n",
       "2265873  78.886386 -78.790296     1282.0\n",
       "\n",
       "[2698267 rows x 3 columns]"
      ]
     },
     "execution_count": 26,
     "metadata": {},
     "output_type": "execute_result"
    }
   ],
   "source": [
    "train_features"
   ]
  },
  {
   "cell_type": "code",
   "execution_count": 27,
   "metadata": {},
   "outputs": [],
   "source": [
    "array_int = np.array(train_features)\n",
    "\n",
    "elevation = np.array(train_features[\"ELEVATION\"])\n",
    "\n",
    "elevation_normalizer = preprocessing.Normalization(input_shape=[1,], axis=None)\n",
    "elevation_normalizer.adapt(elevation)"
   ]
  },
  {
   "cell_type": "code",
   "execution_count": 28,
   "metadata": {},
   "outputs": [
    {
     "name": "stdout",
     "output_type": "stream",
     "text": [
      "Model: \"sequential\"\n",
      "_________________________________________________________________\n",
      "Layer (type)                 Output Shape              Param #   \n",
      "=================================================================\n",
      "normalization_2 (Normalizati (None, 1)                 3         \n",
      "_________________________________________________________________\n",
      "dense (Dense)                (None, 1)                 2         \n",
      "=================================================================\n",
      "Total params: 5\n",
      "Trainable params: 2\n",
      "Non-trainable params: 3\n",
      "_________________________________________________________________\n"
     ]
    }
   ],
   "source": [
    "elevation_model = tf.keras.Sequential([\n",
    "    elevation_normalizer,\n",
    "    layers.Dense(units=1)\n",
    "])\n",
    "\n",
    "elevation_model.summary()"
   ]
  },
  {
   "cell_type": "code",
   "execution_count": 29,
   "metadata": {},
   "outputs": [
    {
     "data": {
      "text/plain": [
       "array([[ 1.106],\n",
       "       [ 0.123],\n",
       "       [-0.159],\n",
       "       [ 0.297],\n",
       "       [ 0.071],\n",
       "       [ 1.229],\n",
       "       [ 0.252],\n",
       "       [-0.07 ],\n",
       "       [-0.431],\n",
       "       [-0.177]], dtype=float32)"
      ]
     },
     "execution_count": 29,
     "metadata": {},
     "output_type": "execute_result"
    }
   ],
   "source": [
    "elevation_model.predict(elevation[:10])"
   ]
  },
  {
   "cell_type": "code",
   "execution_count": 30,
   "metadata": {},
   "outputs": [],
   "source": [
    "elevation_model.compile(\n",
    "    optimizer=tf.optimizers.Adam(learning_rate=0.1),\n",
    "    loss=\"mean_absolute_error\")"
   ]
  },
  {
   "cell_type": "code",
   "execution_count": 34,
   "metadata": {},
   "outputs": [
    {
     "name": "stdout",
     "output_type": "stream",
     "text": [
      "Epoch 1/2\n",
      "67457/67457 [==============================] - 29s 427us/step - loss: 175.1611 - val_loss: 175.3678\n",
      "Epoch 2/2\n",
      "67457/67457 [==============================] - 29s 423us/step - loss: 175.1590 - val_loss: 175.3716\n",
      "CPU times: user 1min 17s, sys: 5.59 s, total: 1min 22s\n",
      "Wall time: 57.4 s\n"
     ]
    }
   ],
   "source": [
    "%%time\n",
    "history = elevation_model.fit(\n",
    "    train_features[\"ELEVATION\"], train_labels,\n",
    "    epochs=2,\n",
    "    # suppress logging\n",
    "#     verbose=0,\n",
    "    # Calculate validation results on 20% of the training data\n",
    "    validation_split = 0.2)"
   ]
  },
  {
   "cell_type": "code",
   "execution_count": 35,
   "metadata": {},
   "outputs": [
    {
     "data": {
      "text/html": [
       "<div>\n",
       "<style scoped>\n",
       "    .dataframe tbody tr th:only-of-type {\n",
       "        vertical-align: middle;\n",
       "    }\n",
       "\n",
       "    .dataframe tbody tr th {\n",
       "        vertical-align: top;\n",
       "    }\n",
       "\n",
       "    .dataframe thead th {\n",
       "        text-align: right;\n",
       "    }\n",
       "</style>\n",
       "<table border=\"1\" class=\"dataframe\">\n",
       "  <thead>\n",
       "    <tr style=\"text-align: right;\">\n",
       "      <th></th>\n",
       "      <th>loss</th>\n",
       "      <th>val_loss</th>\n",
       "      <th>epoch</th>\n",
       "    </tr>\n",
       "  </thead>\n",
       "  <tbody>\n",
       "    <tr>\n",
       "      <th>0</th>\n",
       "      <td>175.161133</td>\n",
       "      <td>175.367752</td>\n",
       "      <td>0</td>\n",
       "    </tr>\n",
       "    <tr>\n",
       "      <th>1</th>\n",
       "      <td>175.159027</td>\n",
       "      <td>175.371628</td>\n",
       "      <td>1</td>\n",
       "    </tr>\n",
       "  </tbody>\n",
       "</table>\n",
       "</div>"
      ],
      "text/plain": [
       "         loss    val_loss  epoch\n",
       "0  175.161133  175.367752      0\n",
       "1  175.159027  175.371628      1"
      ]
     },
     "execution_count": 35,
     "metadata": {},
     "output_type": "execute_result"
    }
   ],
   "source": [
    "hist = pd.DataFrame(history.history)\n",
    "hist['epoch'] = history.epoch\n",
    "hist.tail()"
   ]
  },
  {
   "cell_type": "code",
   "execution_count": 46,
   "metadata": {},
   "outputs": [],
   "source": [
    "test_results = {}\n",
    "\n",
    "test_results['elevation_model'] = elevation_model.evaluate(\n",
    "    test_features['ELEVATION'],\n",
    "    test_labels, verbose=0)\n",
    "\n",
    "test_results['elevation_model']"
   ]
  },
  {
   "cell_type": "code",
   "execution_count": 55,
   "metadata": {},
   "outputs": [],
   "source": [
    "# x = tf.linspace(0.0, 250, 251)\n",
    "# y = elevation_model.predict(x)\n",
    "\n",
    "predicted_thickness = elevation_model.predict(test_features['ELEVATION'])"
   ]
  },
  {
   "cell_type": "code",
   "execution_count": 56,
   "metadata": {},
   "outputs": [
    {
     "data": {
      "text/plain": [
       "Text(0, 0.5, 'Predicted Thickness')"
      ]
     },
     "execution_count": 56,
     "metadata": {},
     "output_type": "execute_result"
    },
    {
     "data": {
      "image/png": "[encoded data removed]",
      "text/plain": [
       "<Figure size 432x288 with 1 Axes>"
      ]
     },
     "metadata": {
      "needs_background": "light"
     },
     "output_type": "display_data"
    }
   ],
   "source": [
    "plt.subplots()\n",
    "plt.plot(test_labels,predicted_thickness,'o')\n",
    "plt.xlabel('Actual Thickness')\n",
    "plt.ylabel('Predicted Thickness')"
   ]
  },
  {
   "cell_type": "code",
   "execution_count": null,
   "metadata": {},
   "outputs": [],
   "source": [
    "def plot_elevation(x, y):\n",
    "  plt.scatter(train_features['ELEVATION'], train_labels, label='Data')\n",
    "  plt.plot(x, y, color='k', label='Predictions')\n",
    "  plt.xlabel('Elevation')\n",
    "  plt.ylabel('Thickness')\n",
    "  plt.legend()"
   ]
  },
  {
   "cell_type": "code",
   "execution_count": null,
   "metadata": {},
   "outputs": [],
   "source": [
    "plot_elevation(x,y)"
   ]
  },
  {
   "cell_type": "code",
   "execution_count": null,
   "metadata": {},
   "outputs": [],
   "source": [
    "#Linear regression with latitude\n",
    "\n",
    "latitude = np.array(train_features['POINT_LAT'])\n",
    "\n",
    "latitude_normalizer = preprocessing.Normalization(input_shape=[1,], axis=None)\n",
    "latitude_normalizer.adapt(latitude)\n",
    "\n",
    "\n",
    "latitude_model = tf.keras.Sequential([\n",
    "    latitude_normalizer,\n",
    "    layers.Dense(units=1)\n",
    "])\n",
    "\n",
    "#horsepower_model.summary()\n",
    "\n",
    "latitude_model.compile(\n",
    "    optimizer=tf.optimizers.Adam(learning_rate=0.1),\n",
    "    loss='mean_absolute_error')\n",
    "\n"
   ]
  },
  {
   "cell_type": "code",
   "execution_count": null,
   "metadata": {},
   "outputs": [],
   "source": [
    "%%time\n",
    "history = latitude_model.fit(\n",
    "    train_features['POINT_LAT'], train_labels,\n",
    "    epochs=100,\n",
    "    # suppress logging\n",
    "    verbose=0,\n",
    "    # Calculate validation results on 20% of the training data\n",
    "    validation_split = 0.2)"
   ]
  },
  {
   "cell_type": "code",
   "execution_count": null,
   "metadata": {},
   "outputs": [],
   "source": [
    "hist = pd.DataFrame(history.history)\n",
    "hist['epoch'] = history.epoch\n",
    "hist.tail()"
   ]
  },
  {
   "cell_type": "code",
   "execution_count": null,
   "metadata": {},
   "outputs": [],
   "source": [
    "def plot_loss(history):\n",
    "  plt.plot(history.history['loss'], label='loss')\n",
    "  plt.plot(history.history['val_loss'], label='val_loss')\n",
    "  plt.ylim([0, 10])\n",
    "  plt.xlabel('Epoch')\n",
    "  plt.ylabel('Error [Thickness]')\n",
    "  plt.legend()\n",
    "  plt.grid(True)"
   ]
  },
  {
   "cell_type": "code",
   "execution_count": null,
   "metadata": {},
   "outputs": [],
   "source": [
    "plot_loss(history)"
   ]
  },
  {
   "cell_type": "code",
   "execution_count": null,
   "metadata": {},
   "outputs": [],
   "source": [
    "test_results = {}\n",
    "\n",
    "test_results['latitude_model'] = latitude_model.evaluate(\n",
    "    test_features['POINT_LAT'],\n",
    "    test_labels, verbose=0)"
   ]
  },
  {
   "cell_type": "code",
   "execution_count": null,
   "metadata": {},
   "outputs": [],
   "source": [
    "x = tf.linspace(0.0, 250, 251)\n",
    "y = latitude_model.predict(x)"
   ]
  },
  {
   "cell_type": "code",
   "execution_count": null,
   "metadata": {},
   "outputs": [],
   "source": [
    "def plot_elevation(x, y):\n",
    "  plt.scatter(train_features['POINT_LAT'], train_labels, label='Data')\n",
    "  plt.plot(x, y, color='k', label='Predictions')\n",
    "  plt.xlabel('Latitude')\n",
    "  plt.ylabel('Thickness')\n",
    "  plt.legend()"
   ]
  },
  {
   "cell_type": "code",
   "execution_count": null,
   "metadata": {},
   "outputs": [],
   "source": [
    "plot_elevation(x,y)"
   ]
  },
  {
   "cell_type": "code",
   "execution_count": null,
   "metadata": {},
   "outputs": [],
   "source": [
    "#Linear regression with longitude\n",
    "\n",
    "longitude = np.array(train_features['POINT_LON'])\n",
    "\n",
    "longitude_normalizer = preprocessing.Normalization(input_shape=[1,], axis=None)\n",
    "longitude_normalizer.adapt(latitude)\n",
    "\n",
    "\n",
    "longitude_model = tf.keras.Sequential([\n",
    "    longitude_normalizer,\n",
    "    layers.Dense(units=1)\n",
    "])\n",
    "\n",
    "#horsepower_model.summary()\n",
    "\n",
    "longitude_model.compile(\n",
    "    optimizer=tf.optimizers.Adam(learning_rate=0.1),\n",
    "    loss='mean_absolute_error')\n"
   ]
  },
  {
   "cell_type": "code",
   "execution_count": null,
   "metadata": {},
   "outputs": [],
   "source": [
    "%%time\n",
    "history = longitude_model.fit(\n",
    "    train_features['POINT_LON'], train_labels,\n",
    "    epochs=100,\n",
    "    # suppress logging\n",
    "    verbose=0,\n",
    "    # Calculate validation results on 20% of the training data\n",
    "    validation_split = 0.2)"
   ]
  },
  {
   "cell_type": "code",
   "execution_count": null,
   "metadata": {},
   "outputs": [],
   "source": [
    "hist = pd.DataFrame(history.history)\n",
    "hist['epoch'] = history.epoch\n",
    "hist.tail()"
   ]
  },
  {
   "cell_type": "code",
   "execution_count": null,
   "metadata": {},
   "outputs": [],
   "source": [
    "def plot_loss(history):\n",
    "  plt.plot(history.history['loss'], label='loss')\n",
    "  plt.plot(history.history['val_loss'], label='val_loss')\n",
    "  plt.ylim([0, 10])\n",
    "  plt.xlabel('Epoch')\n",
    "  plt.ylabel('Error [Thickness]')\n",
    "  plt.legend()\n",
    "  plt.grid(True)"
   ]
  },
  {
   "cell_type": "code",
   "execution_count": null,
   "metadata": {},
   "outputs": [],
   "source": [
    "plot_loss(history)"
   ]
  },
  {
   "cell_type": "code",
   "execution_count": null,
   "metadata": {},
   "outputs": [],
   "source": [
    "test_results = {}\n",
    "\n",
    "test_results['longitude_model'] = longitude_model.evaluate(\n",
    "    test_features['POINT_LON'],\n",
    "    test_labels, verbose=0)"
   ]
  },
  {
   "cell_type": "code",
   "execution_count": null,
   "metadata": {},
   "outputs": [],
   "source": [
    "x = tf.linspace(0.0, 250, 251)\n",
    "y = latitude_model.predict(x)"
   ]
  },
  {
   "cell_type": "code",
   "execution_count": null,
   "metadata": {},
   "outputs": [],
   "source": [
    "def plot_elevation(x, y):\n",
    "  plt.scatter(train_features['POINT_LON'], train_labels, label='Data')\n",
    "  plt.plot(x, y, color='k', label='Predictions')\n",
    "  plt.xlabel('Latitude')\n",
    "  plt.ylabel('Thickness')\n",
    "  plt.legend()"
   ]
  },
  {
   "cell_type": "code",
   "execution_count": null,
   "metadata": {
    "scrolled": true
   },
   "outputs": [],
   "source": [
    "plot_elevation(x,y)"
   ]
  },
  {
   "cell_type": "code",
   "execution_count": null,
   "metadata": {},
   "outputs": [],
   "source": [
    "linear_model = tf.keras.Sequential([\n",
    "    normalizer,\n",
    "    layers.Dense(units=1)\n",
    "])"
   ]
  },
  {
   "cell_type": "code",
   "execution_count": null,
   "metadata": {},
   "outputs": [],
   "source": [
    "linear_model.predict(train_features[:10])"
   ]
  },
  {
   "cell_type": "code",
   "execution_count": null,
   "metadata": {},
   "outputs": [],
   "source": [
    "linear_model.layers[1].kernel"
   ]
  },
  {
   "cell_type": "code",
   "execution_count": null,
   "metadata": {},
   "outputs": [],
   "source": [
    "linear_model.compile(\n",
    "    optimizer=tf.optimizers.Adam(learning_rate=0.1),\n",
    "    loss='mean_absolute_error')"
   ]
  },
  {
   "cell_type": "code",
   "execution_count": null,
   "metadata": {},
   "outputs": [],
   "source": [
    "%%time\n",
    "history = linear_model.fit(\n",
    "    train_features, train_labels, \n",
    "    epochs=100,\n",
    "    # suppress logging\n",
    "    verbose=0,\n",
    "    # Calculate validation results on 20% of the training data\n",
    "    validation_split = 0.2)"
   ]
  },
  {
   "cell_type": "code",
   "execution_count": null,
   "metadata": {},
   "outputs": [],
   "source": []
  },
  {
   "cell_type": "code",
   "execution_count": null,
   "metadata": {},
   "outputs": [],
   "source": []
  },
  {
   "cell_type": "code",
   "execution_count": null,
   "metadata": {},
   "outputs": [],
   "source": []
  },
  {
   "cell_type": "code",
   "execution_count": null,
   "metadata": {},
   "outputs": [],
   "source": []
  }
 ],
 "metadata": {
  "kernelspec": {
   "display_name": "Python 3",
   "language": "python",
   "name": "python3"
  },
  "language_info": {
   "codemirror_mode": {
    "name": "ipython",
    "version": 3
   },
   "file_extension": ".py",
   "mimetype": "text/x-python",
   "name": "python",
   "nbconvert_exporter": "python",
   "pygments_lexer": "ipython3",
   "version": "3.9.2"
  }
 },
 "nbformat": 4,
 "nbformat_minor": 4
}
