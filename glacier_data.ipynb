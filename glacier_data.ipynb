{
 "cells": [
  {
   "cell_type": "code",
   "execution_count": 1,
   "metadata": {},
   "outputs": [
    {
     "name": "stdout",
     "output_type": "stream",
     "text": [
      "2.5.0\n"
     ]
    },
    {
     "data": {
      "text/html": [
       "<div>\n",
       "<style scoped>\n",
       "    .dataframe tbody tr th:only-of-type {\n",
       "        vertical-align: middle;\n",
       "    }\n",
       "\n",
       "    .dataframe tbody tr th {\n",
       "        vertical-align: top;\n",
       "    }\n",
       "\n",
       "    .dataframe thead th {\n",
       "        text-align: right;\n",
       "    }\n",
       "</style>\n",
       "<table border=\"1\" class=\"dataframe\">\n",
       "  <thead>\n",
       "    <tr style=\"text-align: right;\">\n",
       "      <th></th>\n",
       "      <th>GlaThiDa_ID</th>\n",
       "      <th>POLITICAL_UNIT</th>\n",
       "      <th>GLACIER_NAME</th>\n",
       "      <th>GLACIER_DB</th>\n",
       "      <th>GLACIER_ID</th>\n",
       "      <th>LAT</th>\n",
       "      <th>LON</th>\n",
       "      <th>SURVEY_DATE</th>\n",
       "      <th>ELEVATION_DATE</th>\n",
       "      <th>AREA</th>\n",
       "      <th>...</th>\n",
       "      <th>SURVEY_METHOD_DETAILS</th>\n",
       "      <th>NUMBER_OF_SURVEY_POINTS</th>\n",
       "      <th>NUMBER_OF_SURVEY_PROFILES</th>\n",
       "      <th>TOTAL_LENGTH_OF_SURVEY_PROFILES</th>\n",
       "      <th>INTERPOLATION_METHOD</th>\n",
       "      <th>INVESTIGATOR</th>\n",
       "      <th>SPONSORING_AGENCY</th>\n",
       "      <th>REFERENCES</th>\n",
       "      <th>DATA_FLAG</th>\n",
       "      <th>REMARKS</th>\n",
       "    </tr>\n",
       "  </thead>\n",
       "  <tbody>\n",
       "    <tr>\n",
       "      <th>0</th>\n",
       "      <td>1</td>\n",
       "      <td>SE</td>\n",
       "      <td>ISFALLSGLAC</td>\n",
       "      <td>WGI</td>\n",
       "      <td>SE4B000E0006</td>\n",
       "      <td>67.91500</td>\n",
       "      <td>18.56800</td>\n",
       "      <td>19790399.0</td>\n",
       "      <td>19799999.0</td>\n",
       "      <td>1.3</td>\n",
       "      <td>...</td>\n",
       "      <td>NaN</td>\n",
       "      <td>NaN</td>\n",
       "      <td>NaN</td>\n",
       "      <td>NaN</td>\n",
       "      <td>NaN</td>\n",
       "      <td>Schytt V. and others</td>\n",
       "      <td>University of Iceland</td>\n",
       "      <td>Björnsson, H., (1981). Geogr. Ann.</td>\n",
       "      <td>NaN</td>\n",
       "      <td>NaN</td>\n",
       "    </tr>\n",
       "    <tr>\n",
       "      <th>1</th>\n",
       "      <td>2</td>\n",
       "      <td>SE</td>\n",
       "      <td>RABOTS GLACIAER</td>\n",
       "      <td>WGI</td>\n",
       "      <td>SE4B000E1016</td>\n",
       "      <td>67.91000</td>\n",
       "      <td>18.49600</td>\n",
       "      <td>19790399.0</td>\n",
       "      <td>19799999.0</td>\n",
       "      <td>4.1</td>\n",
       "      <td>...</td>\n",
       "      <td>NaN</td>\n",
       "      <td>NaN</td>\n",
       "      <td>10.0</td>\n",
       "      <td>NaN</td>\n",
       "      <td>NaN</td>\n",
       "      <td>Schytt V. and others</td>\n",
       "      <td>University of Iceland</td>\n",
       "      <td>Björnsson, H., (1981). Geogr. Ann.</td>\n",
       "      <td>NaN</td>\n",
       "      <td>NaN</td>\n",
       "    </tr>\n",
       "    <tr>\n",
       "      <th>2</th>\n",
       "      <td>3</td>\n",
       "      <td>SE</td>\n",
       "      <td>STORGLACIAEREN</td>\n",
       "      <td>WGI</td>\n",
       "      <td>SE4B000E0005</td>\n",
       "      <td>67.90000</td>\n",
       "      <td>18.57000</td>\n",
       "      <td>19790399.0</td>\n",
       "      <td>19799999.0</td>\n",
       "      <td>3.1</td>\n",
       "      <td>...</td>\n",
       "      <td>NaN</td>\n",
       "      <td>NaN</td>\n",
       "      <td>NaN</td>\n",
       "      <td>NaN</td>\n",
       "      <td>NaN</td>\n",
       "      <td>Schytt V. and others</td>\n",
       "      <td>University of Iceland</td>\n",
       "      <td>Björnsson, H., (1981). Geogr. Ann.</td>\n",
       "      <td>NaN</td>\n",
       "      <td>NaN</td>\n",
       "    </tr>\n",
       "    <tr>\n",
       "      <th>3</th>\n",
       "      <td>4</td>\n",
       "      <td>US</td>\n",
       "      <td>SOUTH CASCADE</td>\n",
       "      <td>WGI</td>\n",
       "      <td>US2M00264006</td>\n",
       "      <td>48.35698</td>\n",
       "      <td>-121.05735</td>\n",
       "      <td>19759999.0</td>\n",
       "      <td>19759999.0</td>\n",
       "      <td>2.0</td>\n",
       "      <td>...</td>\n",
       "      <td>NaN</td>\n",
       "      <td>NaN</td>\n",
       "      <td>NaN</td>\n",
       "      <td>NaN</td>\n",
       "      <td>NaN</td>\n",
       "      <td>NaN</td>\n",
       "      <td>NaN</td>\n",
       "      <td>Driedger, C.L., and Kennard, P.M., (1986a). An...</td>\n",
       "      <td>NaN</td>\n",
       "      <td>NaN</td>\n",
       "    </tr>\n",
       "    <tr>\n",
       "      <th>4</th>\n",
       "      <td>5</td>\n",
       "      <td>CA</td>\n",
       "      <td>ATHABASCA</td>\n",
       "      <td>FOG</td>\n",
       "      <td>7</td>\n",
       "      <td>52.17540</td>\n",
       "      <td>-117.28400</td>\n",
       "      <td>NaN</td>\n",
       "      <td>NaN</td>\n",
       "      <td>3.8</td>\n",
       "      <td>...</td>\n",
       "      <td>NaN</td>\n",
       "      <td>NaN</td>\n",
       "      <td>NaN</td>\n",
       "      <td>NaN</td>\n",
       "      <td>NaN</td>\n",
       "      <td>NaN</td>\n",
       "      <td>NaN</td>\n",
       "      <td>Driedger, C.L., and Kennard, P.M., (1986a). An...</td>\n",
       "      <td>NaN</td>\n",
       "      <td>NaN</td>\n",
       "    </tr>\n",
       "  </tbody>\n",
       "</table>\n",
       "<p>5 rows × 26 columns</p>\n",
       "</div>"
      ],
      "text/plain": [
       "   GlaThiDa_ID POLITICAL_UNIT     GLACIER_NAME GLACIER_DB    GLACIER_ID  \\\n",
       "0            1             SE      ISFALLSGLAC        WGI  SE4B000E0006   \n",
       "1            2             SE  RABOTS GLACIAER        WGI  SE4B000E1016   \n",
       "2            3             SE   STORGLACIAEREN        WGI  SE4B000E0005   \n",
       "3            4             US    SOUTH CASCADE        WGI  US2M00264006   \n",
       "4            5             CA        ATHABASCA        FOG             7   \n",
       "\n",
       "        LAT        LON  SURVEY_DATE  ELEVATION_DATE  AREA  ...  \\\n",
       "0  67.91500   18.56800   19790399.0      19799999.0   1.3  ...   \n",
       "1  67.91000   18.49600   19790399.0      19799999.0   4.1  ...   \n",
       "2  67.90000   18.57000   19790399.0      19799999.0   3.1  ...   \n",
       "3  48.35698 -121.05735   19759999.0      19759999.0   2.0  ...   \n",
       "4  52.17540 -117.28400          NaN             NaN   3.8  ...   \n",
       "\n",
       "   SURVEY_METHOD_DETAILS  NUMBER_OF_SURVEY_POINTS  NUMBER_OF_SURVEY_PROFILES  \\\n",
       "0                    NaN                      NaN                        NaN   \n",
       "1                    NaN                      NaN                       10.0   \n",
       "2                    NaN                      NaN                        NaN   \n",
       "3                    NaN                      NaN                        NaN   \n",
       "4                    NaN                      NaN                        NaN   \n",
       "\n",
       "   TOTAL_LENGTH_OF_SURVEY_PROFILES  INTERPOLATION_METHOD  \\\n",
       "0                              NaN                   NaN   \n",
       "1                              NaN                   NaN   \n",
       "2                              NaN                   NaN   \n",
       "3                              NaN                   NaN   \n",
       "4                              NaN                   NaN   \n",
       "\n",
       "           INVESTIGATOR      SPONSORING_AGENCY  \\\n",
       "0  Schytt V. and others  University of Iceland   \n",
       "1  Schytt V. and others  University of Iceland   \n",
       "2  Schytt V. and others  University of Iceland   \n",
       "3                   NaN                    NaN   \n",
       "4                   NaN                    NaN   \n",
       "\n",
       "                                          REFERENCES  DATA_FLAG  REMARKS  \n",
       "0                 Björnsson, H., (1981). Geogr. Ann.        NaN      NaN  \n",
       "1                 Björnsson, H., (1981). Geogr. Ann.        NaN      NaN  \n",
       "2                 Björnsson, H., (1981). Geogr. Ann.        NaN      NaN  \n",
       "3  Driedger, C.L., and Kennard, P.M., (1986a). An...        NaN      NaN  \n",
       "4  Driedger, C.L., and Kennard, P.M., (1986a). An...        NaN      NaN  \n",
       "\n",
       "[5 rows x 26 columns]"
      ]
     },
     "execution_count": 1,
     "metadata": {},
     "output_type": "execute_result"
    }
   ],
   "source": [
    "import matplotlib.pyplot as plt\n",
    "import numpy as np\n",
    "import pandas as pd\n",
    "import seaborn as sns\n",
    "import tensorflow as tf\n",
    "from tensorflow import keras\n",
    "from tensorflow.keras import layers\n",
    "from tensorflow.keras.layers.experimental import preprocessing\n",
    "\n",
    "print(tf.__version__)\n",
    "\n",
    "# Make numpy printouts easier to read.\n",
    "np.set_printoptions(precision=3, suppress=True)\n",
    "\n",
    "raw_dataset = pd.read_csv(\"/data/fast0/datasets/glathida-3.1.0/data/T.csv\")\n",
    "# raw_dataset = pd.read_csv(\"~/notebooks/glac/data/T.csv\")\n",
    "# raw_dataset = pd.read_csv(\"~/stuff/coding/glacier/glac/data/T.csv\")\n",
    "\n",
    "# , sep='|', names=['col1']\n",
    "# , delimiter=\", ' \"\n",
    "\n",
    "dataset = raw_dataset.copy()\n",
    "\n",
    "#examine missing data\n",
    "dataset.head()"
   ]
  },
  {
   "cell_type": "code",
   "execution_count": 2,
   "metadata": {},
   "outputs": [
    {
     "data": {
      "text/plain": [
       "LAT               0\n",
       "LON               0\n",
       "AREA              0\n",
       "MEAN_SLOPE        0\n",
       "MEAN_THICKNESS    0\n",
       "dtype: int64"
      ]
     },
     "execution_count": 2,
     "metadata": {},
     "output_type": "execute_result"
    }
   ],
   "source": [
    "#drop everything but lat, long, elevation, thickness\n",
    "\n",
    "dataset = dataset.drop(\"GlaThiDa_ID\", axis=1)\n",
    "dataset = dataset.drop(\"GLACIER_DB\", axis=1)\n",
    "dataset = dataset.drop(\"POLITICAL_UNIT\", axis=1)\n",
    "dataset = dataset.drop(\"GLACIER_ID\", axis=1)\n",
    "dataset = dataset.drop(\"GLACIER_NAME\", axis=1)\n",
    "dataset = dataset.drop(\"SURVEY_DATE\", axis=1)\n",
    "dataset = dataset.drop(\"MEAN_THICKNESS_UNCERTAINTY\", axis=1)\n",
    "dataset = dataset.drop(\"MAXIMUM_THICKNESS\", axis=1)\n",
    "dataset = dataset.drop(\"MAX_THICKNESS_UNCERTAINTY\", axis=1)\n",
    "dataset = dataset.drop(\"DATA_FLAG\", axis=1)\n",
    "dataset = dataset.drop(\"ELEVATION_DATE\", axis=1)\n",
    "dataset = dataset.drop(\"SPONSORING_AGENCY\", axis=1)\n",
    "dataset = dataset.drop(\"REMARKS\", axis=1)\n",
    "dataset = dataset.drop(\"SURVEY_METHOD_DETAILS\", axis=1)\n",
    "dataset = dataset.drop(\"SURVEY_METHOD\", axis=1)\n",
    "dataset = dataset.drop(\"NUMBER_OF_SURVEY_POINTS\", axis=1)\n",
    "dataset = dataset.drop(\"NUMBER_OF_SURVEY_PROFILES\", axis=1)\n",
    "dataset = dataset.drop(\"TOTAL_LENGTH_OF_SURVEY_PROFILES\", axis=1)\n",
    "dataset = dataset.drop(\"INTERPOLATION_METHOD\", axis=1)\n",
    "dataset = dataset.drop(\"INVESTIGATOR\", axis=1)\n",
    "dataset = dataset.drop(\"REFERENCES\", axis=1)\n",
    "\n",
    "#sum up rows with empty cells\n",
    "dataset.isna().sum()\n",
    "\n",
    "#drop the remaining null pieces from elevation\n",
    "dataset = dataset.dropna()\n",
    "dataset.isna().sum()"
   ]
  },
  {
   "cell_type": "code",
   "execution_count": 3,
   "metadata": {
    "scrolled": false
   },
   "outputs": [
    {
     "data": {
      "text/html": [
       "<div>\n",
       "<style scoped>\n",
       "    .dataframe tbody tr th:only-of-type {\n",
       "        vertical-align: middle;\n",
       "    }\n",
       "\n",
       "    .dataframe tbody tr th {\n",
       "        vertical-align: top;\n",
       "    }\n",
       "\n",
       "    .dataframe thead th {\n",
       "        text-align: right;\n",
       "    }\n",
       "</style>\n",
       "<table border=\"1\" class=\"dataframe\">\n",
       "  <thead>\n",
       "    <tr style=\"text-align: right;\">\n",
       "      <th></th>\n",
       "      <th>LAT</th>\n",
       "      <th>LON</th>\n",
       "      <th>AREA</th>\n",
       "      <th>MEAN_SLOPE</th>\n",
       "      <th>MEAN_THICKNESS</th>\n",
       "    </tr>\n",
       "  </thead>\n",
       "  <tbody>\n",
       "    <tr>\n",
       "      <th>32</th>\n",
       "      <td>48.750000</td>\n",
       "      <td>-121.830000</td>\n",
       "      <td>2.900</td>\n",
       "      <td>0.0</td>\n",
       "      <td>58.0</td>\n",
       "    </tr>\n",
       "    <tr>\n",
       "      <th>33</th>\n",
       "      <td>58.380000</td>\n",
       "      <td>-134.360000</td>\n",
       "      <td>11.700</td>\n",
       "      <td>0.0</td>\n",
       "      <td>66.0</td>\n",
       "    </tr>\n",
       "    <tr>\n",
       "      <th>34</th>\n",
       "      <td>50.061340</td>\n",
       "      <td>87.697410</td>\n",
       "      <td>5.150</td>\n",
       "      <td>0.0</td>\n",
       "      <td>56.0</td>\n",
       "    </tr>\n",
       "    <tr>\n",
       "      <th>35</th>\n",
       "      <td>50.049670</td>\n",
       "      <td>87.745520</td>\n",
       "      <td>2.840</td>\n",
       "      <td>0.0</td>\n",
       "      <td>86.0</td>\n",
       "    </tr>\n",
       "    <tr>\n",
       "      <th>36</th>\n",
       "      <td>50.080080</td>\n",
       "      <td>87.690250</td>\n",
       "      <td>5.950</td>\n",
       "      <td>0.0</td>\n",
       "      <td>90.0</td>\n",
       "    </tr>\n",
       "    <tr>\n",
       "      <th>...</th>\n",
       "      <td>...</td>\n",
       "      <td>...</td>\n",
       "      <td>...</td>\n",
       "      <td>...</td>\n",
       "      <td>...</td>\n",
       "    </tr>\n",
       "    <tr>\n",
       "      <th>620</th>\n",
       "      <td>78.245480</td>\n",
       "      <td>16.064380</td>\n",
       "      <td>2.100</td>\n",
       "      <td>13.0</td>\n",
       "      <td>32.0</td>\n",
       "    </tr>\n",
       "    <tr>\n",
       "      <th>628</th>\n",
       "      <td>43.043653</td>\n",
       "      <td>77.080587</td>\n",
       "      <td>2.610</td>\n",
       "      <td>20.0</td>\n",
       "      <td>47.0</td>\n",
       "    </tr>\n",
       "    <tr>\n",
       "      <th>632</th>\n",
       "      <td>77.971400</td>\n",
       "      <td>14.069100</td>\n",
       "      <td>6.737</td>\n",
       "      <td>6.0</td>\n",
       "      <td>65.0</td>\n",
       "    </tr>\n",
       "    <tr>\n",
       "      <th>749</th>\n",
       "      <td>77.027200</td>\n",
       "      <td>15.485400</td>\n",
       "      <td>0.370</td>\n",
       "      <td>19.0</td>\n",
       "      <td>27.0</td>\n",
       "    </tr>\n",
       "    <tr>\n",
       "      <th>837</th>\n",
       "      <td>78.871000</td>\n",
       "      <td>12.161400</td>\n",
       "      <td>4.600</td>\n",
       "      <td>14.0</td>\n",
       "      <td>76.0</td>\n",
       "    </tr>\n",
       "  </tbody>\n",
       "</table>\n",
       "<p>111 rows × 5 columns</p>\n",
       "</div>"
      ],
      "text/plain": [
       "           LAT         LON    AREA  MEAN_SLOPE  MEAN_THICKNESS\n",
       "32   48.750000 -121.830000   2.900         0.0            58.0\n",
       "33   58.380000 -134.360000  11.700         0.0            66.0\n",
       "34   50.061340   87.697410   5.150         0.0            56.0\n",
       "35   50.049670   87.745520   2.840         0.0            86.0\n",
       "36   50.080080   87.690250   5.950         0.0            90.0\n",
       "..         ...         ...     ...         ...             ...\n",
       "620  78.245480   16.064380   2.100        13.0            32.0\n",
       "628  43.043653   77.080587   2.610        20.0            47.0\n",
       "632  77.971400   14.069100   6.737         6.0            65.0\n",
       "749  77.027200   15.485400   0.370        19.0            27.0\n",
       "837  78.871000   12.161400   4.600        14.0            76.0\n",
       "\n",
       "[111 rows x 5 columns]"
      ]
     },
     "execution_count": 3,
     "metadata": {},
     "output_type": "execute_result"
    }
   ],
   "source": [
    "dataset"
   ]
  },
  {
   "cell_type": "markdown",
   "metadata": {},
   "source": [
    "# "
   ]
  },
  {
   "cell_type": "code",
   "execution_count": 4,
   "metadata": {},
   "outputs": [],
   "source": [
    "#split the dataset and reserve some to test what was trained.\n",
    "train_dataset = dataset.sample(frac=0.8, random_state=0)\n",
    "test_dataset = dataset.drop(train_dataset.index)"
   ]
  },
  {
   "cell_type": "code",
   "execution_count": 5,
   "metadata": {},
   "outputs": [
    {
     "data": {
      "text/plain": [
       "<seaborn.axisgrid.PairGrid at 0x7fb2b9320940>"
      ]
     },
     "execution_count": 5,
     "metadata": {},
     "output_type": "execute_result"
    },
    {
     "data": {
      "image/png": "[encoded data removed]",
      "text/plain": [
       "<Figure size 720x720 with 20 Axes>"
      ]
     },
     "metadata": {
      "needs_background": "light"
     },
     "output_type": "display_data"
    }
   ],
   "source": [
    "sns.pairplot(train_dataset[[\"LAT\", \"AREA\", \"MEAN_SLOPE\", \"MEAN_THICKNESS\"]], diag_kind='kde')"
   ]
  },
  {
   "cell_type": "code",
   "execution_count": 6,
   "metadata": {},
   "outputs": [
    {
     "data": {
      "text/html": [
       "<div>\n",
       "<style scoped>\n",
       "    .dataframe tbody tr th:only-of-type {\n",
       "        vertical-align: middle;\n",
       "    }\n",
       "\n",
       "    .dataframe tbody tr th {\n",
       "        vertical-align: top;\n",
       "    }\n",
       "\n",
       "    .dataframe thead th {\n",
       "        text-align: right;\n",
       "    }\n",
       "</style>\n",
       "<table border=\"1\" class=\"dataframe\">\n",
       "  <thead>\n",
       "    <tr style=\"text-align: right;\">\n",
       "      <th></th>\n",
       "      <th>count</th>\n",
       "      <th>mean</th>\n",
       "      <th>std</th>\n",
       "      <th>min</th>\n",
       "      <th>25%</th>\n",
       "      <th>50%</th>\n",
       "      <th>75%</th>\n",
       "      <th>max</th>\n",
       "    </tr>\n",
       "  </thead>\n",
       "  <tbody>\n",
       "    <tr>\n",
       "      <th>LAT</th>\n",
       "      <td>89.0</td>\n",
       "      <td>47.465341</td>\n",
       "      <td>14.458029</td>\n",
       "      <td>-16.3023</td>\n",
       "      <td>44.584600</td>\n",
       "      <td>45.080000</td>\n",
       "      <td>48.75000</td>\n",
       "      <td>78.87100</td>\n",
       "    </tr>\n",
       "    <tr>\n",
       "      <th>LON</th>\n",
       "      <td>89.0</td>\n",
       "      <td>41.704321</td>\n",
       "      <td>55.546192</td>\n",
       "      <td>-134.3600</td>\n",
       "      <td>8.602228</td>\n",
       "      <td>78.176022</td>\n",
       "      <td>79.82588</td>\n",
       "      <td>140.86536</td>\n",
       "    </tr>\n",
       "    <tr>\n",
       "      <th>AREA</th>\n",
       "      <td>89.0</td>\n",
       "      <td>4.060882</td>\n",
       "      <td>8.853776</td>\n",
       "      <td>0.0264</td>\n",
       "      <td>1.000000</td>\n",
       "      <td>2.100000</td>\n",
       "      <td>3.22750</td>\n",
       "      <td>71.30000</td>\n",
       "    </tr>\n",
       "    <tr>\n",
       "      <th>MEAN_SLOPE</th>\n",
       "      <td>89.0</td>\n",
       "      <td>8.797753</td>\n",
       "      <td>10.230502</td>\n",
       "      <td>0.0000</td>\n",
       "      <td>0.000000</td>\n",
       "      <td>6.000000</td>\n",
       "      <td>16.00000</td>\n",
       "      <td>48.00000</td>\n",
       "    </tr>\n",
       "    <tr>\n",
       "      <th>MEAN_THICKNESS</th>\n",
       "      <td>89.0</td>\n",
       "      <td>50.460674</td>\n",
       "      <td>27.011806</td>\n",
       "      <td>4.0000</td>\n",
       "      <td>30.000000</td>\n",
       "      <td>49.000000</td>\n",
       "      <td>65.00000</td>\n",
       "      <td>148.00000</td>\n",
       "    </tr>\n",
       "  </tbody>\n",
       "</table>\n",
       "</div>"
      ],
      "text/plain": [
       "                count       mean        std       min        25%        50%  \\\n",
       "LAT              89.0  47.465341  14.458029  -16.3023  44.584600  45.080000   \n",
       "LON              89.0  41.704321  55.546192 -134.3600   8.602228  78.176022   \n",
       "AREA             89.0   4.060882   8.853776    0.0264   1.000000   2.100000   \n",
       "MEAN_SLOPE       89.0   8.797753  10.230502    0.0000   0.000000   6.000000   \n",
       "MEAN_THICKNESS   89.0  50.460674  27.011806    4.0000  30.000000  49.000000   \n",
       "\n",
       "                     75%        max  \n",
       "LAT             48.75000   78.87100  \n",
       "LON             79.82588  140.86536  \n",
       "AREA             3.22750   71.30000  \n",
       "MEAN_SLOPE      16.00000   48.00000  \n",
       "MEAN_THICKNESS  65.00000  148.00000  "
      ]
     },
     "execution_count": 6,
     "metadata": {},
     "output_type": "execute_result"
    }
   ],
   "source": [
    "train_dataset.describe().transpose()"
   ]
  },
  {
   "cell_type": "code",
   "execution_count": 7,
   "metadata": {},
   "outputs": [
    {
     "data": {
      "text/html": [
       "<div>\n",
       "<style scoped>\n",
       "    .dataframe tbody tr th:only-of-type {\n",
       "        vertical-align: middle;\n",
       "    }\n",
       "\n",
       "    .dataframe tbody tr th {\n",
       "        vertical-align: top;\n",
       "    }\n",
       "\n",
       "    .dataframe thead th {\n",
       "        text-align: right;\n",
       "    }\n",
       "</style>\n",
       "<table border=\"1\" class=\"dataframe\">\n",
       "  <thead>\n",
       "    <tr style=\"text-align: right;\">\n",
       "      <th></th>\n",
       "      <th>mean</th>\n",
       "      <th>std</th>\n",
       "    </tr>\n",
       "  </thead>\n",
       "  <tbody>\n",
       "    <tr>\n",
       "      <th>LAT</th>\n",
       "      <td>47.465341</td>\n",
       "      <td>14.458029</td>\n",
       "    </tr>\n",
       "    <tr>\n",
       "      <th>LON</th>\n",
       "      <td>41.704321</td>\n",
       "      <td>55.546192</td>\n",
       "    </tr>\n",
       "    <tr>\n",
       "      <th>AREA</th>\n",
       "      <td>4.060882</td>\n",
       "      <td>8.853776</td>\n",
       "    </tr>\n",
       "    <tr>\n",
       "      <th>MEAN_SLOPE</th>\n",
       "      <td>8.797753</td>\n",
       "      <td>10.230502</td>\n",
       "    </tr>\n",
       "  </tbody>\n",
       "</table>\n",
       "</div>"
      ],
      "text/plain": [
       "                 mean        std\n",
       "LAT         47.465341  14.458029\n",
       "LON         41.704321  55.546192\n",
       "AREA         4.060882   8.853776\n",
       "MEAN_SLOPE   8.797753  10.230502"
      ]
     },
     "execution_count": 7,
     "metadata": {},
     "output_type": "execute_result"
    }
   ],
   "source": [
    "#separate out features - what will be trained to predict desired attribute\n",
    "train_features = train_dataset.copy()\n",
    "test_features = test_dataset.copy()\n",
    "\n",
    "#define label - attribute training to be picked\n",
    "train_labels = train_features.pop(\"MEAN_THICKNESS\")\n",
    "test_labels = test_features.pop(\"MEAN_THICKNESS\")\n",
    "\n",
    "train_features.describe().transpose()[['mean', 'std']]"
   ]
  },
  {
   "cell_type": "markdown",
   "metadata": {},
   "source": [
    "# Establish normalization layers"
   ]
  },
  {
   "cell_type": "code",
   "execution_count": 8,
   "metadata": {},
   "outputs": [
    {
     "name": "stdout",
     "output_type": "stream",
     "text": [
      "WARNING:tensorflow:5 out of the last 13 calls to <function PreprocessingLayer.make_adapt_function.<locals>.adapt_step at 0x7fb2ac1199d0> triggered tf.function retracing. Tracing is expensive and the excessive number of tracings could be due to (1) creating @tf.function repeatedly in a loop, (2) passing tensors with different shapes, (3) passing Python objects instead of tensors. For (1), please define your @tf.function outside of the loop. For (2), @tf.function has experimental_relax_shapes=True option that relaxes argument shapes that can avoid unnecessary retracing. For (3), please refer to https://www.tensorflow.org/guide/function#controlling_retracing and https://www.tensorflow.org/api_docs/python/tf/function for  more details.\n"
     ]
    }
   ],
   "source": [
    "#build normalizer layers for each model to be run\n",
    "\n",
    "normalizer = preprocessing.Normalization(axis=-1)\n",
    "normalizer.adapt(np.array(train_features))\n",
    "\n",
    "area = train_features[\"AREA\"]\n",
    "area_normalizer = preprocessing.Normalization(input_shape=[1,], axis=None)\n",
    "area_normalizer.adapt(np.array(area))\n",
    "\n",
    "lat = train_features[\"LAT\"]\n",
    "lat_normalizer = preprocessing.Normalization(input_shape=[1,], axis=None)\n",
    "lat_normalizer.adapt(np.array(lat))\n",
    "\n",
    "lon = train_features[\"LON\"]\n",
    "lon_normalizer = preprocessing.Normalization(input_shape=[1,], axis=None)\n",
    "lon_normalizer.adapt(np.array(lon))\n",
    "\n",
    "\n",
    "slope = train_features[\"MEAN_SLOPE\"]\n",
    "slope_normalizer = preprocessing.Normalization(input_shape=[1,], axis=None)\n",
    "slope_normalizer.adapt(np.array(slope))"
   ]
  },
  {
   "cell_type": "markdown",
   "metadata": {},
   "source": [
    "# Single variable linear regression functions"
   ]
  },
  {
   "cell_type": "code",
   "execution_count": 9,
   "metadata": {},
   "outputs": [],
   "source": [
    "def build_linear_model(feature_normalizer):\n",
    "    model = tf.keras.Sequential([\n",
    "        feature_normalizer,\n",
    "        layers.Dense(1)\n",
    "    ])\n",
    "\n",
    "    model.compile(\n",
    "        optimizer=tf.optimizers.Adam(learning_rate=0.1),\n",
    "        loss=\"mean_absolute_error\")\n",
    "    \n",
    "    return model\n",
    "\n",
    "def plot_single_model_variable(x, y,feature_name):\n",
    "    plt.scatter(train_features[feature_name], train_labels, label='Data')\n",
    "    plt.plot(x, y, color='k', label='Predictions')\n",
    "    plt.xlabel(feature_name)\n",
    "    plt.ylabel(\"Avg Thickness (m)\")\n",
    "#     plt.xlim((0,20))\n",
    "    plt.legend()\n",
    "      \n",
    "def plot_loss(history):\n",
    "#     plt.subplots(figsize=(10,5))\n",
    "    plt.plot(history.history['loss'], label='loss')\n",
    "    plt.plot(history.history['val_loss'], label='val_loss')\n",
    "    #   plt.ylim([0, 10])\n",
    "    plt.xlabel('Epoch')\n",
    "    plt.ylabel('Error')\n",
    "    plt.legend()\n",
    "    plt.grid(True)"
   ]
  },
  {
   "cell_type": "code",
   "execution_count": 10,
   "metadata": {},
   "outputs": [],
   "source": [
    "test_results = {}\n",
    "linear_model = {}\n",
    "linear_history = {}\n",
    "linear_results = {}"
   ]
  },
  {
   "cell_type": "markdown",
   "metadata": {},
   "source": [
    "# Linear regression"
   ]
  },
  {
   "cell_type": "code",
   "execution_count": 11,
   "metadata": {},
   "outputs": [
    {
     "data": {
      "text/plain": [
       "{}"
      ]
     },
     "execution_count": 11,
     "metadata": {},
     "output_type": "execute_result"
    }
   ],
   "source": [
    "variable_list = ('AREA','LAT','LON','MEAN_SLOPE')\n",
    "for variable_name in variable_list:\n",
    "\n",
    "    linear_model[variable_name] = build_linear_model(area_normalizer)\n",
    "    linear_history[variable_name] = linear_model[variable_name].fit(\n",
    "                                        train_features[variable_name], train_labels,        \n",
    "                                        epochs=1000,\n",
    "                                        verbose=0,\n",
    "                                        validation_split = 0.2)\n",
    "    linear_results[variable_name] = linear_model[variable_name].evaluate(\n",
    "                                        test_features[variable_name],\n",
    "                                        test_labels, verbose=0)\n",
    "\n",
    "test_results"
   ]
  },
  {
   "cell_type": "code",
   "execution_count": 12,
   "metadata": {},
   "outputs": [
    {
     "data": {
      "image/png": "[encoded data removed]",
      "text/plain": [
       "<Figure size 720x720 with 4 Axes>"
      ]
     },
     "metadata": {
      "needs_background": "light"
     },
     "output_type": "display_data"
    }
   ],
   "source": [
    "fig,ax=plt.subplots(2,2,figsize=(10,10))\n",
    "for i, variable_name in enumerate(variable_list):\n",
    "    plt.subplot(2,2,i+1)\n",
    "    xmax = np.max(train_features[variable_name])\n",
    "    xmin = np.min(train_features[variable_name])\n",
    "    x = tf.linspace(xmin, xmax, 101)\n",
    "    y = linear_model[variable_name].predict(x)\n",
    "    plot_single_model_variable(x,y,variable_name)"
   ]
  },
  {
   "cell_type": "code",
   "execution_count": 13,
   "metadata": {},
   "outputs": [
    {
     "data": {
      "image/png": "[encoded data removed]",
      "text/plain": [
       "<Figure size 720x720 with 4 Axes>"
      ]
     },
     "metadata": {
      "needs_background": "light"
     },
     "output_type": "display_data"
    }
   ],
   "source": [
    "fig,ax=plt.subplots(2,2,figsize=(10,10))\n",
    "for i, variable_name in enumerate(variable_list):\n",
    "    plt.subplot(2,2,i+1)\n",
    "    plot_loss(linear_history[variable_name])"
   ]
  },
  {
   "cell_type": "code",
   "execution_count": 14,
   "metadata": {},
   "outputs": [
    {
     "ename": "NameError",
     "evalue": "name 'thiswillcrash' is not defined",
     "output_type": "error",
     "traceback": [
      "\u001b[0;31m---------------------------------------------------------------------------\u001b[0m",
      "\u001b[0;31mNameError\u001b[0m                                 Traceback (most recent call last)",
      "\u001b[0;32m<ipython-input-14-aaf20532a7a3>\u001b[0m in \u001b[0;36m<module>\u001b[0;34m\u001b[0m\n\u001b[0;32m----> 1\u001b[0;31m \u001b[0mthiswillcrash\u001b[0m\u001b[0;34m(\u001b[0m\u001b[0;34m)\u001b[0m\u001b[0;34m\u001b[0m\u001b[0;34m\u001b[0m\u001b[0m\n\u001b[0m",
      "\u001b[0;31mNameError\u001b[0m: name 'thiswillcrash' is not defined"
     ]
    }
   ],
   "source": [
    "thiswillcrash()"
   ]
  },
  {
   "cell_type": "markdown",
   "metadata": {},
   "source": [
    "# Linear regression with multiple inputs"
   ]
  },
  {
   "cell_type": "code",
   "execution_count": null,
   "metadata": {},
   "outputs": [],
   "source": [
    "linear_model = build_linear_model(normalizer)\n",
    "\n",
    "history = linear_model.fit(\n",
    "train_features, train_labels,        \n",
    "   epochs=1000,\n",
    "   verbose=0,\n",
    "   validation_split = 0.2)\n",
    "\n",
    "test_results[\"MULTI\"] = linear_model.evaluate(\n",
    "    test_features,\n",
    "    test_labels, verbose=0)\n",
    "\n",
    "test_results"
   ]
  },
  {
   "cell_type": "code",
   "execution_count": null,
   "metadata": {},
   "outputs": [],
   "source": [
    "plot_loss(history)"
   ]
  },
  {
   "cell_type": "markdown",
   "metadata": {},
   "source": [
    "# DNN regression"
   ]
  },
  {
   "cell_type": "markdown",
   "metadata": {},
   "source": [
    "## Define regression functions"
   ]
  },
  {
   "cell_type": "code",
   "execution_count": null,
   "metadata": {},
   "outputs": [],
   "source": [
    "def build_dnn_model(norm):\n",
    "    model = keras.Sequential([\n",
    "              norm,\n",
    "              layers.Dense(64, activation='relu'),\n",
    "              layers.Dense(64, activation='relu'),\n",
    "              layers.Dense(1) ])\n",
    "\n",
    "    model.compile(loss='mean_absolute_error',\n",
    "                optimizer=tf.keras.optimizers.Adam(0.01))\n",
    "    \n",
    "    return model\n",
    "\n",
    "def dnn_model_history(feature_name):\n",
    "    history = dnn_model.fit(\n",
    "                train_features[feature_name], train_labels,        \n",
    "                epochs=1000,\n",
    "                verbose=0,\n",
    "                validation_split = 0.2)\n",
    "    return history\n",
    "\n",
    "def dnn_test_results(feature_name):\n",
    "    dnn_test_results[feature_name] = dnn_model.evaluate(\n",
    "        test_features[feature_name],\n",
    "        test_labels, verbose=0)\n",
    "    \n",
    "dnn_results = {}"
   ]
  },
  {
   "cell_type": "code",
   "execution_count": null,
   "metadata": {},
   "outputs": [],
   "source": [
    "dnn_model = build_dnn_model(area_normalizer)\n",
    "\n",
    "dnn_area_history = dnn_model_history(\"AREA\")\n",
    "\n",
    "dnn_area_results = dnn_test_results(\"AREA\")\n",
    "\n",
    "dnn_results\n"
   ]
  },
  {
   "cell_type": "code",
   "execution_count": null,
   "metadata": {},
   "outputs": [],
   "source": [
    "dnn_model = build_dnn_model(lat_normalizer)\n",
    "\n",
    "dnn_history = dnn_model_history(\"LAT\")\n",
    "\n",
    "dnn_lat_results = dnn_test_results(\"LAT\")\n",
    "\n",
    "test_results"
   ]
  },
  {
   "cell_type": "code",
   "execution_count": null,
   "metadata": {},
   "outputs": [],
   "source": [
    "dnn_area_model = build_dnn_model(lat_normalizer)\n",
    "\n",
    "dnn_history = dnn_model_history(\"LAT\")\n",
    "\n",
    "dnn_lat_results = dnn_test_results(\"LAT\")\n",
    "\n",
    "test_results"
   ]
  },
  {
   "cell_type": "markdown",
   "metadata": {},
   "source": [
    "# Full model"
   ]
  },
  {
   "cell_type": "code",
   "execution_count": null,
   "metadata": {},
   "outputs": [],
   "source": [
    "normalizer = preprocessing.Normalization(axis=-1)\n",
    "normalizer.adapt(np.array(train_features))\n",
    "dnn_full_model = build_and_compile_model(normalizer)"
   ]
  },
  {
   "cell_type": "code",
   "execution_count": null,
   "metadata": {},
   "outputs": [],
   "source": [
    "%%time\n",
    "history_full = dnn_full_model.fit(\n",
    "    train_features, train_labels,\n",
    "    validation_split=0.2,\n",
    "    verbose=0, epochs=100)"
   ]
  },
  {
   "cell_type": "code",
   "execution_count": null,
   "metadata": {},
   "outputs": [],
   "source": [
    "plot_loss(history_full)"
   ]
  },
  {
   "cell_type": "code",
   "execution_count": null,
   "metadata": {},
   "outputs": [],
   "source": [
    "y = dnn_full_model.predict(test_features)\n",
    "plt.plot(test_labels,y,'o')\n",
    "plt.plot((0,150),(0,150),'-')\n",
    "plt.xlabel('True Area (km**2)')\n",
    "plt.ylabel('Model Area (km**2)')"
   ]
  },
  {
   "cell_type": "code",
   "execution_count": null,
   "metadata": {},
   "outputs": [],
   "source": [
    "plt.subplots()\n",
    "x = np.reshape(test_labels.values, (-1, 1)) # Training values in a n-by-1 array\n",
    "pct_error = (x-y)/x\n",
    "plt.hist(pct_error.flatten())\n",
    "plt.xlabel('Percent Error')\n",
    "plt.ylabel('Count')"
   ]
  },
  {
   "cell_type": "code",
   "execution_count": null,
   "metadata": {},
   "outputs": [],
   "source": [
    "test_results[\"dnn_full_model\"] = dnn_full_model.evaluate(\n",
    "    test_features,\n",
    "    test_labels, verbose=0)\n",
    "\n",
    "test_results"
   ]
  }
 ],
 "metadata": {
  "kernelspec": {
   "display_name": "Python 3",
   "language": "python",
   "name": "python3"
  },
  "language_info": {
   "codemirror_mode": {
    "name": "ipython",
    "version": 3
   },
   "file_extension": ".py",
   "mimetype": "text/x-python",
   "name": "python",
   "nbconvert_exporter": "python",
   "pygments_lexer": "ipython3",
   "version": "3.9.2"
  }
 },
 "nbformat": 4,
 "nbformat_minor": 4
}
